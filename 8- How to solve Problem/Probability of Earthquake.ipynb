{
  "cells": [
    {
      "metadata": {
        "_uuid": "8f2839f25d086af736a60e9eeb907d3b93b6e0e5",
        "_cell_guid": "b1076dfc-b9ad-4769-8c92-a6c4dae69d19",
        "trusted": true
      },
      "cell_type": "markdown",
      "source": " # <div style=\"text-align: center\">Probability of Earthquake  </div> \n### <div style=\"text-align: center\">Quite Practical and Far from any Theoretical Concepts\n \n </div> \n<img src='https://cdn-images-1.medium.com/max/800/1*ZqMOkymLG5oSuUuVAKSlpg.png' width=400 height=400>\n<div style=\"text-align:center\">last update: <b>11/01/2019</b></div>\n\n\n\nYou can Fork code  and  Follow me on:\n\n> ###### [ GitHub](https://github.com/mjbahmani/10-steps-to-become-a-data-scientist)\n> ###### [Kaggle](https://www.kaggle.com/mjbahmani/)\n-------------------------------------------------------------------------------------------------------------\n <b>I hope you find this kernel helpful and some <font color='red'>UPVOTES</font> would be very much appreciated.</b>\n    \n -----------"
    },
    {
      "metadata": {
        "_cell_guid": "79c7e3d0-c299-4dcb-8224-4455121ee9b0",
        "collapsed": true,
        "_uuid": "d629ff2d2480ee46fbb7e2d37f6b5fab8052498a",
        "trusted": false
      },
      "cell_type": "markdown",
      "source": " <a id=\"top\"></a> <br>\n## Notebook  Content\n1. [Introduction](#1)\n1. [Basic Concepts](#2)\n1. [Conclusion](#3)\n1. [References](#4)"
    },
    {
      "metadata": {
        "_uuid": "af63d485947264b68c37768c73ffac21bb631c0f"
      },
      "cell_type": "markdown",
      "source": " <a id=\"1\"></a> <br>\n## 1- Introduction\n**Forecasting earthquakes** is one of the most important problems in Earth science. If you agree, the earthquake forecast is likely to be related to the concepts of **probability**. In this kernel, I try to look at the prediction of the earthquake with the **help** of the concepts of probability .\n<img src='https://www.livemint.com/r/LiveMint/WebArchive/BP/Photos/2015-06-16/Processed/Mint/Web/earthquake-1.jpg'>\nFor anyone taking first steps in data science, **Probability** is a must know concept. Concepts of probability theory are the backbone of many important concepts in data science like inferential statistics to Bayesian networks. It would not be wrong to say that the journey of mastering statistics begins with probability."
    },
    {
      "metadata": {
        "_uuid": "733f1f0e45933f46a674df4d9ee6561de156d748"
      },
      "cell_type": "markdown",
      "source": " <a id=\"21\"></a> <br>\n## 2-1 Import"
    },
    {
      "metadata": {
        "_kg_hide-input": true,
        "trusted": true,
        "_uuid": "7646c73810d475601436c096d36498cfaa489ec4"
      },
      "cell_type": "code",
      "source": "from sklearn.preprocessing import StandardScaler\nfrom sklearn.metrics import mean_absolute_error\nimport matplotlib.patches as patch\nimport matplotlib.pyplot as plt\nfrom sklearn.svm import NuSVR\nfrom scipy.stats import norm\nfrom scipy import linalg\nfrom sklearn import svm\nimport tensorflow as tf\nfrom tqdm import tqdm\nimport seaborn as sns\nimport pandas as pd\nimport numpy as np\nimport glob\nimport sys\nimport os",
      "execution_count": null,
      "outputs": []
    },
    {
      "metadata": {
        "_uuid": "ec9e63f88e677ed60bfe5a8de4bb0b2a8be8b00a"
      },
      "cell_type": "markdown",
      "source": " <a id=\"22\"></a> <br>\n##  2-2 Setup"
    },
    {
      "metadata": {
        "_kg_hide-input": true,
        "trusted": true,
        "_uuid": "16768a965c3ced6a76d33642e11ecae18f5977e8"
      },
      "cell_type": "code",
      "source": "%matplotlib inline\n%precision 4\nplt.style.use('ggplot')\nnp.set_printoptions(suppress=True)\npd.set_option(\"display.precision\", 15)",
      "execution_count": null,
      "outputs": []
    },
    {
      "metadata": {
        "_uuid": "9bcec14c7403174f2a9fdab866ea8248aa76328d"
      },
      "cell_type": "markdown",
      "source": " <a id=\"23\"></a> <br>\n## 2-3 Version\n"
    },
    {
      "metadata": {
        "_kg_hide-input": true,
        "trusted": true,
        "_uuid": "4644581a5ce6c2c98ec2668a95037742b189c318"
      },
      "cell_type": "code",
      "source": "print('pandas: {}'.format(pd.__version__))\nprint('numpy: {}'.format(np.__version__))\nprint('Python: {}'.format(sys.version))",
      "execution_count": null,
      "outputs": []
    },
    {
      "metadata": {
        "_uuid": "ccfe7d54dac0cf31125a49b1981d25a69e679db0"
      },
      "cell_type": "markdown",
      "source": "<a id=\"3\"></a> \n<br>\n## 3- Problem Definition\nI think one of the important things when you start a new machine learning project is Defining your problem. that means you should understand business problem.( **Problem Formalization**)\n\nProblem Definition has four steps that have illustrated in the picture below:\n<img src=\"http://s8.picofile.com/file/8338227734/ProblemDefination.png\">\n\n**Current scientific studies related to earthquake forecasting focus on three key points:** \n1. when the event will occur\n1. where it will occur\n1. how large it will be.\n"
    },
    {
      "metadata": {
        "_uuid": "dc84d5445dab932c46e2c5dfe86f2131e98aa0f1"
      },
      "cell_type": "markdown",
      "source": "### 3-1 Problem Feature\n\n1.     train.csv - A single, continuous training segment of experimental data.\n1.     test - A folder containing many small segments of test data.\n1.     sample_sumbission.csv - A sample submission file in the correct format.\n"
    },
    {
      "metadata": {
        "_uuid": "449535074de09edf5cdccb5a63539661fff29be6"
      },
      "cell_type": "markdown",
      "source": "### 3-2 Aim\nIn this competition, you will address <font color='red'><b>WHEN</b></font> the earthquake will take place"
    },
    {
      "metadata": {
        "_uuid": "184d1004ff1f90fdf9d475cbb37ea94b89dd2567"
      },
      "cell_type": "markdown",
      "source": "### 3-3 Variables\n\n1.     acoustic_data - the seismic signal [int16]\n1.     time_to_failure - the time (in seconds) until the next laboratory earthquake [float64]\n1.     seg_id - the test segment ids for which predictions should be made (one prediction per segment)\n"
    },
    {
      "metadata": {
        "_uuid": "81b77e49bae78bad2c31bc2ce101c1fff8296af0"
      },
      "cell_type": "markdown",
      "source": "## 3-4 evaluation\nSubmissions are evaluated using the [mean absolute error](https://en.wikipedia.org/wiki/Mean_absolute_error) between the predicted time remaining before the next lab earthquake and the act remaining time.\n<img src='https://wikimedia.org/api/rest_v1/media/math/render/svg/3ef87b78a9af65e308cf4aa9acf6f203efbdeded'>"
    },
    {
      "metadata": {
        "_uuid": "f8a54abda5d2e30c5cdb25c554bef1f8a341482c"
      },
      "cell_type": "markdown",
      "source": "## 4- Exploratory Data Analysis(EDA)\n In this section, we'll analysis how to use graphical and numerical techniques to begin uncovering the structure of your data. \n \n* Which variables suggest interesting relationships?\n* Which observations are unusual?\n* Analysis of the features!\nBy the end of the section, you'll be able to answer these questions and more, while generating graphics that are both insightful and beautiful.  then We will review analytical and statistical operations:\n\n*  Data Collection\n*  Visualization\n*  Data Preprocessing\n*  Data Cleaning"
    },
    {
      "metadata": {
        "_uuid": "c90af9d21a49adcbd478c56871149f1282c58b7f"
      },
      "cell_type": "markdown",
      "source": " <a id=\"14\"></a> <br>\n## 4-1 Data Collection"
    },
    {
      "metadata": {
        "_kg_hide-input": true,
        "trusted": true,
        "_uuid": "1c883e09dbe7e4b4d7caeb2cf380ec0f07209531"
      },
      "cell_type": "code",
      "source": "print(os.listdir(\"../input/\"))",
      "execution_count": null,
      "outputs": []
    },
    {
      "metadata": {
        "_kg_hide-input": true,
        "trusted": true,
        "_uuid": "7427d2d9ce7dff9d63a355631a1718a6fb6c5847"
      },
      "cell_type": "code",
      "source": "# import Dataset to play with it\ntrain= pd.read_csv(\"../input/train.csv\",nrows=1000)",
      "execution_count": null,
      "outputs": []
    },
    {
      "metadata": {
        "_kg_hide-input": true,
        "trusted": true,
        "_uuid": "9be60393f64121beb23124bdec3cef638436e788"
      },
      "cell_type": "code",
      "source": "sample_submission = pd.read_csv('../input/sample_submission.csv')\nsample_submission.head()",
      "execution_count": null,
      "outputs": []
    },
    {
      "metadata": {
        "trusted": true,
        "_kg_hide-input": true,
        "_uuid": "1d054476a562f14b8d7e88fd2a8ea3b7b70c371c"
      },
      "cell_type": "code",
      "source": "train.head()",
      "execution_count": null,
      "outputs": []
    },
    {
      "metadata": {
        "trusted": true,
        "_kg_hide-input": true,
        "_uuid": "53df1775b242c8e3374278075809c98dc3b2fb62"
      },
      "cell_type": "code",
      "source": "train.describe()",
      "execution_count": null,
      "outputs": []
    },
    {
      "metadata": {
        "trusted": true,
        "_kg_hide-input": true,
        "_uuid": "b0ba2d971f1b000f2ae343dd684e8789b0fcf6cb"
      },
      "cell_type": "code",
      "source": "train.shape",
      "execution_count": null,
      "outputs": []
    },
    {
      "metadata": {
        "trusted": true,
        "_kg_hide-input": true,
        "_uuid": "590ed0ff228f6161e42ada37ef2345e71f7f40f5"
      },
      "cell_type": "code",
      "source": "train.isna().sum()",
      "execution_count": null,
      "outputs": []
    },
    {
      "metadata": {
        "trusted": true,
        "_uuid": "28b7d475d28834f4947d58894b662cd399f31a8a"
      },
      "cell_type": "code",
      "source": "type(train)",
      "execution_count": null,
      "outputs": []
    },
    {
      "metadata": {
        "_uuid": "c1eddbf9a17cb7b15b342b4d2d48af7f0ac79006"
      },
      "cell_type": "markdown",
      "source": " <a id=\"15\"></a> <br>\n## 1-5 Visualization"
    },
    {
      "metadata": {
        "trusted": true,
        "_uuid": "70207522d405040466649db4664f6dc9cb75849f"
      },
      "cell_type": "code",
      "source": "",
      "execution_count": null,
      "outputs": []
    },
    {
      "metadata": {
        "trusted": true,
        "_uuid": "04c95213d519d272e2ee16d16f873a2f6f22ba78"
      },
      "cell_type": "code",
      "source": "train[\"acoustic_data\"].hist();",
      "execution_count": null,
      "outputs": []
    },
    {
      "metadata": {
        "trusted": true,
        "_uuid": "9a9d90dfbe0bc0cca02c1d3db752a74fa7b9ca8d"
      },
      "cell_type": "code",
      "source": "",
      "execution_count": null,
      "outputs": []
    },
    {
      "metadata": {
        "trusted": true,
        "_uuid": "d12937b29a26d3081c61d2128e903c9d7b09db69"
      },
      "cell_type": "code",
      "source": "pd.plotting.scatter_matrix(train,figsize=(10,10))\nplt.figure()",
      "execution_count": null,
      "outputs": []
    },
    {
      "metadata": {
        "trusted": true,
        "_uuid": "1498698d6c5175ea7a10ff3595d9f0177e1e6861"
      },
      "cell_type": "code",
      "source": "",
      "execution_count": null,
      "outputs": []
    },
    {
      "metadata": {
        "trusted": true,
        "_uuid": "90cae6c076bcefc862828b177672c2e481b6a15b"
      },
      "cell_type": "code",
      "source": "sns.jointplot(x='acoustic_data',y='time_to_failure' ,data=train, kind='reg')",
      "execution_count": null,
      "outputs": []
    },
    {
      "metadata": {
        "trusted": true,
        "_uuid": "565eea91ba475dfb935f89052738e98c4338206a"
      },
      "cell_type": "code",
      "source": "",
      "execution_count": null,
      "outputs": []
    },
    {
      "metadata": {
        "trusted": true,
        "_uuid": "4cafe1f825c8f5b7d1115411cf6018649ae2c2a1"
      },
      "cell_type": "code",
      "source": "sns.swarmplot(x='time_to_failure',y='acoustic_data',data=train)",
      "execution_count": null,
      "outputs": []
    },
    {
      "metadata": {
        "trusted": true,
        "_uuid": "ed6ad0832110a8c6b1fe8056fa50e7337b408515"
      },
      "cell_type": "code",
      "source": "",
      "execution_count": null,
      "outputs": []
    },
    {
      "metadata": {
        "trusted": true,
        "_uuid": "610c55e007fa11a14fdbc90ba93137766bf1a8ab"
      },
      "cell_type": "code",
      "source": "\nplt.plot(train[\"time_to_failure\"], train[\"acoustic_data\"])\nplt.title(\"time_to_failure histogram\")",
      "execution_count": null,
      "outputs": []
    },
    {
      "metadata": {
        "trusted": true,
        "_uuid": "c7c539dd31e2d389813645c30e997f1728e9f926"
      },
      "cell_type": "code",
      "source": "",
      "execution_count": null,
      "outputs": []
    },
    {
      "metadata": {
        "trusted": true,
        "_uuid": "bd6affcd4ac007edc297dc726b3915112384af35"
      },
      "cell_type": "code",
      "source": "sns.distplot(train[\"acoustic_data\"])",
      "execution_count": null,
      "outputs": []
    },
    {
      "metadata": {
        "trusted": true,
        "_uuid": "c36884367038758e75c922e8269fc337285949aa"
      },
      "cell_type": "code",
      "source": "",
      "execution_count": null,
      "outputs": []
    },
    {
      "metadata": {
        "trusted": true,
        "_uuid": "f3c21e9aa2dae18fbb2d949f44a0ed728b987daf"
      },
      "cell_type": "code",
      "source": "",
      "execution_count": null,
      "outputs": []
    },
    {
      "metadata": {
        "_uuid": "8a436a7a7f1391cb78ae3cec6c8d5adb42f41bd2"
      },
      "cell_type": "raw",
      "source": ""
    },
    {
      "metadata": {
        "_uuid": "8afaaae9f83971dd442a16af434d88318d82c352"
      },
      "cell_type": "markdown",
      "source": " <a id=\"1\"></a> <br>\n## 2- What is probability?\n\nAt the most basic level, probability seeks to answer the question, \"What is the chance of an event happening?\" An event is some outcome of interest. To calculate the chance of an event happening, we also need to consider all the other events that can occur.\n\nThe quintessential representation of probability is the humble coin toss. In a coin toss the only events that can happen are:\n\n    * Flipping a heads\n    * Flipping a tails\n\nThese two events form the sample space, the set of all possible events that can happen. To calculate the probability of an event occurring, we count how many times are event of interest can occur (say flipping heads) and dividing it by the sample space. Thus, probability will tell us that an ideal coin will have a 1-in-2 chance of being heads or tails. By looking at the events that can occur, probability gives us a framework for making predictions about how often events will happen.\n<img src='https://i.imgur.com/GtbawRt.jpg'>\nHowever, even though it seems obvious, if we actually try to toss some coins, we're likely to get an abnormally high or low counts of heads every once in a while. If we don't want to make the assumption that the coin is fair, what can we do? We can gather data! We can use statistics to calculate probabilities based on observations from the real world and check how it compares to the ideal."
    },
    {
      "metadata": {
        "trusted": true,
        "_kg_hide-input": true,
        "_uuid": "22d795b93a4cfc8fcd113265b8c37971331b5a2d"
      },
      "cell_type": "code",
      "source": "train.head()",
      "execution_count": null,
      "outputs": []
    },
    {
      "metadata": {
        "trusted": true,
        "_kg_hide-input": true,
        "_uuid": "f83bc9719d71a4ba3f437a350456400710d99de1"
      },
      "cell_type": "code",
      "source": "train.describe()",
      "execution_count": null,
      "outputs": []
    },
    {
      "metadata": {
        "_kg_hide-input": true,
        "trusted": true,
        "_uuid": "ca9ae169e960fddc581b8da1b15c7e79d8bbe972"
      },
      "cell_type": "code",
      "source": "train.acoustic_data.describe()",
      "execution_count": null,
      "outputs": []
    },
    {
      "metadata": {
        "trusted": true,
        "_kg_hide-input": true,
        "_uuid": "494ed481854c35f709b888c158646983eb126b3e"
      },
      "cell_type": "code",
      "source": "train.shape",
      "execution_count": null,
      "outputs": []
    },
    {
      "metadata": {
        "trusted": true,
        "_kg_hide-input": true,
        "_uuid": "6adc1fb6f7ef818946843b3698583ade2458a218"
      },
      "cell_type": "code",
      "source": "train.isna().sum()",
      "execution_count": null,
      "outputs": []
    },
    {
      "metadata": {
        "_uuid": "50ec9d85dd2653fc37db395ca963b1a81c2732ac"
      },
      "cell_type": "raw",
      "source": ""
    },
    {
      "metadata": {
        "_kg_hide-input": true,
        "trusted": true,
        "_uuid": "a627430f905c43e3b017ee33859838744ff055ff"
      },
      "cell_type": "code",
      "source": "import random\ndef coin_trial():\n    heads = 0\n    for i in range(100):\n        if random.random() <= 0.5:\n            heads +=1\n    return heads\n\ndef simulate(n):\n   trials = []\n   for i in range(n):\n       trials.append(coin_trial())\n   return(sum(trials)/n)",
      "execution_count": null,
      "outputs": []
    },
    {
      "metadata": {
        "_kg_hide-input": true,
        "trusted": true,
        "_uuid": "36f7cc024dc29e10474bd7b04b359ad2e87c8146"
      },
      "cell_type": "code",
      "source": "simulate(10)",
      "execution_count": null,
      "outputs": []
    },
    {
      "metadata": {
        "_uuid": "734a6ca70c3713b7a70fdf0734db3729cbaf4db3"
      },
      "cell_type": "markdown",
      "source": "## 2-1 Why do we need probability?\nIn an uncertain world, it can be of immense help to know and understand chances of various events. You can plan things accordingly. If it’s likely to rain, I would carry my umbrella. If I am likely to have diabetes on the basis of my food habits, I would get myself tested. If my customer is unlikely to pay me a renewal premium without a reminder, I would remind him about it.\n\n* So knowing the likelihood might be very beneficial."
    },
    {
      "metadata": {
        "_uuid": "5e4c3706c549f628432552b11af1cd9ec92cf5eb"
      },
      "cell_type": "markdown",
      "source": "## 2-2 Random Variables\nTo calculate the likelihood of occurence of an event, we need to put a framework to express the outcome in numbers. We can do this by mapping the outcome of an experiment to numbers.\n\nLet’s define X to be the outcome of a coin toss.\n\n1. X = outcome of a coin toss\n\nPossible Outcomes:\n\n1. 1 if heads\n1. 0 if tails\n1. Let’s take another one.\n\nSuppose, I win the game if I get a sum of 8 while rolling two fair dice. I can define my random variable Y to be (the sum of the upward face of two fair dice )\n\n1. Y can take values = (2, 3, 4, 5, 6, 7, 8, 9, 10, 11, 12)"
    },
    {
      "metadata": {
        "trusted": true,
        "_uuid": "a842bb5827beb29e15e40efa612418a107986676",
        "_kg_hide-input": true
      },
      "cell_type": "code",
      "source": "# Sample Space\ncards = 52\n\n# Outcomes\naces = 4\n\n# Divide possible outcomes by the sample set\nace_probability = aces / cards\n\n# Print probability rounded to two decimal places\nprint(round(ace_probability, 2))",
      "execution_count": null,
      "outputs": []
    },
    {
      "metadata": {
        "_uuid": "7cdbe014b14a508bab679da76f8521498f1e9adc"
      },
      "cell_type": "markdown",
      "source": "## 3- Binomial Distribution"
    },
    {
      "metadata": {
        "trusted": true,
        "_uuid": "ca87eed2fadd36dfd63d58898bc89dfa10c6e0cd",
        "_kg_hide-input": true
      },
      "cell_type": "code",
      "source": "n, p = 10, .5  # number of trials, probability of each trial",
      "execution_count": null,
      "outputs": []
    },
    {
      "metadata": {
        "trusted": true,
        "_uuid": "51d7f8cdb0a471f095b34490a47b8f7bf718c8ae",
        "_kg_hide-input": true
      },
      "cell_type": "code",
      "source": "s = np.random.binomial(n, p, 1000)",
      "execution_count": null,
      "outputs": []
    },
    {
      "metadata": {
        "trusted": true,
        "_uuid": "dc6b7d73394f142a34d52a6903d8324f974fe993",
        "_kg_hide-input": true
      },
      "cell_type": "code",
      "source": "from scipy.stats import binom\nimport seaborn as sb\n\nbinom.rvs(size=10,n=20,p=0.8)\n\ndata_binom = binom.rvs(n=20,p=0.8,loc=0,size=1000)\nax = sb.distplot(data_binom,\n                  kde=True,\n                  color='blue',\n                  hist_kws={\"linewidth\": 25,'alpha':1})\nax.set(xlabel='Binomial', ylabel='Frequency')",
      "execution_count": null,
      "outputs": []
    },
    {
      "metadata": {
        "_uuid": "b52f5a7aeedec78441373b6c31436d0870a63db9"
      },
      "cell_type": "markdown",
      "source": "## 4- Continuous random variables"
    },
    {
      "metadata": {
        "trusted": true,
        "_uuid": "875da44cf8fe43da3e698b29cb01b488fb1aad40",
        "_kg_hide-input": true
      },
      "cell_type": "code",
      "source": "from scipy.stats import rv_continuous",
      "execution_count": null,
      "outputs": []
    },
    {
      "metadata": {
        "trusted": true,
        "_uuid": "aa58ffc4db24e830c858a369f378734891596b36",
        "_kg_hide-input": true
      },
      "cell_type": "code",
      "source": "class gaussian_gen(rv_continuous):\n    \"Gaussian distribution\"\n    def _pdf(self, x):\n        return np.exp(-x**2 / 2.) / np.sqrt(2.0 * np.pi)\ngaussian = gaussian_gen(name='gaussian')",
      "execution_count": null,
      "outputs": []
    },
    {
      "metadata": {
        "_uuid": "ffeca6293f2f735ab83c4f22b8aad81b7937db8a"
      },
      "cell_type": "markdown",
      "source": "## 5- Poisson Distribution\nA Poisson distribution is a distribution which shows the likely number of times that an event will occur within a pre-determined period of time. It is used for independent events which occur at a constant rate within a given interval of time. The Poisson distribution is a discrete function, meaning that the event can only be measured as occurring or not as occurring, meaning the variable can only be measured in whole numbers.\n\nWe use the seaborn python library which has in-built functions to create such probability distribution graphs. Also the scipy package helps is creating the binomial distribution."
    },
    {
      "metadata": {
        "trusted": true,
        "_uuid": "9861a667dcab639771636aa628e678e34b4b34d1",
        "_kg_hide-input": true
      },
      "cell_type": "code",
      "source": "from scipy.stats import poisson\nimport seaborn as sb\n\ndata_binom = poisson.rvs(mu=4, size=10000)\nax = sb.distplot(data_binom,\n                  kde=True,\n                  color='green',\n                  hist_kws={\"linewidth\": 25,'alpha':1})\nax.set(xlabel='Poisson', ylabel='Frequency')",
      "execution_count": null,
      "outputs": []
    },
    {
      "metadata": {
        "_uuid": "ab886064d7931712cc4cd94ad81c8764ec0168d8"
      },
      "cell_type": "markdown",
      "source": "## 6- Bernoulli Distribution\nThe Bernoulli distribution is a special case of the Binomial distribution where a single experiment is conducted so that the number of observation is 1. So, the Bernoulli distribution therefore describes events having exactly two outcomes.\n\nWe use various functions in numpy library to mathematically calculate the values for a bernoulli distribution. Histograms are created over which we plot the probability distribution curve. "
    },
    {
      "metadata": {
        "trusted": true,
        "_uuid": "c1ad2fc80d89c27e7a75425ea5c27998efb60e12",
        "_kg_hide-input": true
      },
      "cell_type": "code",
      "source": "from scipy.stats import bernoulli\nimport seaborn as sb\n\ndata_bern = bernoulli.rvs(size=1000,p=0.6)\nax = sb.distplot(data_bern,\n                  kde=True,\n                  color='crimson',\n                  hist_kws={\"linewidth\": 25,'alpha':1})\nax.set(xlabel='Bernouli', ylabel='Frequency')",
      "execution_count": null,
      "outputs": []
    },
    {
      "metadata": {
        "_uuid": "5ea0cf2146f3580e894c015d4746d855f885e7bf"
      },
      "cell_type": "markdown",
      "source": "##  7- Z Scores\nWe will encounter a lot of cases, where we would need to know the probability for the data to be less than or more than a particular value. This value will not be equal to 1σ or 2σ away from the mean.\n\nThe distance in terms of number of standard deviations, the observed value is away from the mean, is the standard score or the Z score."
    },
    {
      "metadata": {
        "trusted": true,
        "_uuid": "cd3b8935071c888fe462465d5aac3d65a7adc0bb",
        "_kg_hide-input": true
      },
      "cell_type": "code",
      "source": "a = np.array([ 0.7972,  0.0767,  0.4383,  0.7866,  0.8091,\n            0.1954,  0.6307,  0.6599,  0.1065,  0.0508])\nfrom scipy import stats\nstats.zscore(a)",
      "execution_count": null,
      "outputs": []
    },
    {
      "metadata": {
        "_uuid": "0961cedb9dcda51938a09145a70220133ef7756d"
      },
      "cell_type": "markdown",
      "source": "## 8- P-Value\nThe p-value is about the strength of a hypothesis. We build hypothesis based on some statistical model and compare the model's validity using p-value. One way to get the p-value is by using T-test.\n\nThis is a two-sided test for the null hypothesis that the expected value (mean) of a sample of independent observations ‘a’ is equal to the given population mean, popmean. Let us consider the following example."
    },
    {
      "metadata": {
        "trusted": true,
        "_uuid": "a8102dab343f2f939b0b4477944d78f6cd6147b6",
        "_kg_hide-input": true
      },
      "cell_type": "code",
      "source": "from scipy import stats\nrvs = stats.norm.rvs(loc = 5, scale = 10, size = (50,2))\nprint (stats.ttest_1samp(rvs,5.0))",
      "execution_count": null,
      "outputs": []
    },
    {
      "metadata": {
        "_uuid": "76fed337ed3264b771adc2051d71d94b1c6f8fbe"
      },
      "cell_type": "markdown",
      "source": "## 9- What is Conditional Probability?\n\nConditional probability is a measure of the probability of an event (some particular situation occurring) given that (by assumption, presumption, assertion or evidence) another event has occurred.\n<img src='https://cdn-images-1.medium.com/max/800/0*A_FcopnqXGd_bVVn.gif'>\n\nThe probability of event B given event A equals the probability of event A and event B divided by the probability of event A."
    },
    {
      "metadata": {
        "_uuid": "435fe67f1a833ad62045a29288c440c6952d315c"
      },
      "cell_type": "markdown",
      "source": "you can follow me on:\n> ###### [ GitHub](https://github.com/mjbahmani/)\n> ###### [Kaggle](https://www.kaggle.com/mjbahmani/)\n\n <b>I hope you find this kernel helpful and some <font color='red'>UPVOTES</font> would be very much appreciated.<b/>\n "
    },
    {
      "metadata": {
        "_uuid": "87a2ff7337efe70afed219d3e4df4baf5763524e"
      },
      "cell_type": "markdown",
      "source": "<a id=\"33\"></a> <br>\n# 11-References\n1. [Basic Probability Data Science with examples](https://www.analyticsvidhya.com/blog/2017/02/basic-probability-data-science-with-examples/)\n1. [How to self learn statistics of data science](https://medium.com/ml-research-lab/how-to-self-learn-statistics-of-data-science-c05db1f7cfc3)\n1. [Probability statistics for data science- series](https://towardsdatascience.com/probability-statistics-for-data-science-series-83b94353ca48)\n1. [basic-statistics-in-python-probability](https://www.dataquest.io/blog/basic-statistics-in-python-probability/)\n1. [tutorialspoint](https://www.tutorialspoint.com/python/python_poisson_distribution.htm)"
    },
    {
      "metadata": {
        "_uuid": "6ef2c570b8457a851fc753134b587d61a4d9082e"
      },
      "cell_type": "markdown",
      "source": "Go to first step: [Course Home Page](https://www.kaggle.com/mjbahmani/10-steps-to-become-a-data-scientist)\n\nGo to next step : [Titanic](https://www.kaggle.com/mjbahmani/a-comprehensive-ml-workflow-with-python)\n"
    },
    {
      "metadata": {
        "_uuid": "c1f7f7d015529da63ac495e5c2dcd08dc563e249"
      },
      "cell_type": "markdown",
      "source": "# Not Completed yet!!!"
    }
  ],
  "metadata": {
    "kernelspec": {
      "display_name": "Python 3",
      "language": "python",
      "name": "python3"
    },
    "language_info": {
      "name": "python",
      "version": "3.6.6",
      "mimetype": "text/x-python",
      "codemirror_mode": {
        "name": "ipython",
        "version": 3
      },
      "pygments_lexer": "ipython3",
      "nbconvert_exporter": "python",
      "file_extension": ".py"
    }
  },
  "nbformat": 4,
  "nbformat_minor": 1
}