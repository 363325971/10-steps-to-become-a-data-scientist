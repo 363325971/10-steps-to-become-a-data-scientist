{
  "cells": [
    {
      "metadata": {
        "_uuid": "866e7eb37a03e1a48e71ba4e4c8f4baca43472e8"
      },
      "cell_type": "markdown",
      "source": " # <div align=\"center\">  The Data Scientist’s Toolbox Tutorial - 1 </div>\n ### <div align=\"center\"><b>Quite Practical and Far from any Theoretical Concepts</b></div>\n \n<div style=\"text-align:center\">last update: <b>12/03/2018</b></div>"
    },
    {
      "metadata": {
        "_uuid": "e02d495da0fb0ad24e0341e91848f4c4cfc35bdb"
      },
      "cell_type": "markdown",
      "source": "you may be interested have a look at it: \n>[**The Data Scientist’s Toolbox Tutorial - 2**](https://www.kaggle.com/mjbahmani/the-data-scientist-s-toolbox-tutorial-2)\n\n---------------------------------------------------------------------\nFork, Run and Follow this kernel on GitHub:\n> ###### [ GitHub](https://github.com/mjbahmani/10-steps-to-become-a-data-scientist)\n\n\n-------------------------------------------------------------------------------------------------------------\n **I hope you find this kernel helpful and some <font color=\"red\">UPVOTES</font> would be very much appreciated**\n \n -----------\n"
    },
    {
      "metadata": {
        "_uuid": "85b27cf82d3023fd69c338df2be7afb2d7afaf32"
      },
      "cell_type": "markdown",
      "source": " <a id=\"top\"></a> <br>\n**Notebook Content**\n1. [Introduction](#1)\n    1. [Import](#2)\n    1. [Version](#3)\n    1. [setup](#4)\n1. [Python](#5)\n    1. [Python Syntax compared to other programming languages](#6)\n    1. [Python: Basics](#7)\n        1. [Variables](#8)\n        1. [Operators](#9)\n    1. [Functions](#10)\n    1. [Types and Sequences](#11)\n    1. [More on Strings](#12)\n    1. [Reading and Writing CSV files](#13)\n    1. [Dates and Times](#14)\n    1. [Objects and map()](#15)\n    1. [Lambda and List Comprehensions](#16)\n    1. [OOP](#17)\n        1. [Inheritance](#18)\n    1. [ Python JSON](#19)\n        1. [Convert from Python to JSON](#20)\n    1. [Python PIP](#21)\n        1. [Install PIP](#22)\n    1. [Python Try Except](#23)\n    1. [Python Iterators](#24)\n        1. [Looping Through an Iterator](#25)\n    1. [Dictionary](#26)\n    1. [Tuples](#27)\n    1. [Set](#28)\n        1. [Add Items](#29)\n 1. [Python Packages](#30)\n1. [Numpy](#31)\n    1. [Creating Arrays](#32)\n    1. [Combining Arrays](#33)\n    1. [Operations](#34)\n    1. [Math Functions](#35)\n    1. [Indexing / Slicing](#36)\n    1. [Copying Data](#37)\n    1. [Iterating Over Arrays](#38)\n    1. [The Series Data Structure](#39)\n    1. [Querying a Series](#40)\n1. [Pandas](#41)\n    1. [The DataFrame Data Structure](#42)\n    1. [Dataframe Indexing and Loading](#43)\n    1. [Missing values](#44)\n    1. [Merging Dataframes](#45)\n    1. [Making Code Pandorable](#46)\n    1. [Group by](#47)\n    1. [Scales](#48)\n    1. [Pivot Tables](#49)\n    1. [Date Functionality](#50)\n    1. [Distributions in Pandas](#51)\n    1. [Hypothesis Testing](#52)\n1. [CheatSheet](#60)\n1. [Conclusion](#61)\n1. [References](#62)"
    },
    {
      "metadata": {
        "_uuid": "6b741a5af31141057f72904b11954acfb57f5772"
      },
      "cell_type": "markdown",
      "source": "<a id=\"1\"></a> <br>\n## 1-Introduction"
    },
    {
      "metadata": {
        "_uuid": "1e7678d8e7831683d0aefffdab152562c18c3188"
      },
      "cell_type": "markdown",
      "source": "In this kernel, we have a comprehensive tutorials for some important packages in python after that you can read my other kernels about machine learning."
    },
    {
      "metadata": {
        "_uuid": "918161eb40e34a545c75850d6a7dee64d9bf5cd1"
      },
      "cell_type": "markdown",
      "source": " <img src=\"http://s8.picofile.com/file/8340141626/packages1.png\"  height=\"420\" width=\"420\">\n \n ###### [Go to top](#top)"
    },
    {
      "metadata": {
        "_uuid": "953258de456acd2780aba3d18c1fc817ae689ad7"
      },
      "cell_type": "markdown",
      "source": "<a id=\"2\"></a> <br>\n## 1-1 Import"
    },
    {
      "metadata": {
        "_uuid": "4f8b6d44c99e1141bd001556f554c7efc6b77acf",
        "trusted": true,
        "_kg_hide-input": true
      },
      "cell_type": "code",
      "source": "from plotly.offline import download_plotlyjs, init_notebook_mode, plot, iplot\nimport matplotlib.pyplot as plt\nimport plotly.graph_objs as go\nimport scipy.stats as stats\nimport plotly.plotly as py\nimport seaborn as sns\nimport pandas as pd\nimport numpy as np\nimport matplotlib\nimport warnings\nimport sklearn\nimport scipy\nimport json\nimport sys\nimport csv\nimport os",
      "execution_count": null,
      "outputs": []
    },
    {
      "metadata": {
        "_uuid": "9a30328de5327e576716f7a57ef119e63a6e77c3"
      },
      "cell_type": "markdown",
      "source": "<a id=\"3\"></a> <br>\n## 1-2 Version"
    },
    {
      "metadata": {
        "trusted": true,
        "_uuid": "3925ca44958df0a27f3b51de1dba2a18a2650110",
        "_kg_hide-input": true
      },
      "cell_type": "code",
      "source": "print('matplotlib: {}'.format(matplotlib.__version__))\nprint('sklearn: {}'.format(sklearn.__version__))\nprint('scipy: {}'.format(scipy.__version__))\nprint('seaborn: {}'.format(sns.__version__))\nprint('pandas: {}'.format(pd.__version__))\nprint('numpy: {}'.format(np.__version__))\nprint('Python: {}'.format(sys.version))",
      "execution_count": null,
      "outputs": []
    },
    {
      "metadata": {
        "_uuid": "51a98c51b1bf27253f6521a2951a5d61625642bf"
      },
      "cell_type": "markdown",
      "source": "<a id=\"4\"></a> <br>\n##  1-3 Setup"
    },
    {
      "metadata": {
        "trusted": true,
        "_uuid": "cbf46ff8ec8faf08c4aa9c84eb796ffcf0a8c4c8",
        "_kg_hide-input": true
      },
      "cell_type": "code",
      "source": "warnings.filterwarnings('ignore')\nsns.set(color_codes=True)\nplt.style.available\n%matplotlib inline\n%precision 2",
      "execution_count": null,
      "outputs": []
    },
    {
      "metadata": {
        "_uuid": "5efeff35ad9951e40551d0763eaf26f08bb4119e"
      },
      "cell_type": "markdown",
      "source": " <a id=\"5\"></a> <br>\n# 2-Python\n\n**Python** is a modern, robust, high level programming language. It is very easy to pick up even if you are completely new to programming.\n\nIt is used for:\n\n1. Web development (server-side),\n1. Software development,\n1. Mathematics,\n1. System scripting.\n1. Data Science\n\n<a id=\"6\"></a> <br>\n## 2-1 Python Syntax compared to other programming languages\n\n1. Python was designed to for readability, and has some similarities to the English language with influence from mathematics.\n1. Python uses new lines to complete a command, as opposed to other programming languages which often use semicolons or parentheses.\n1. Python relies on indentation, using whitespace, to define scope; such as the scope of loops, functions and classes. Other programming languages often use curly-brackets for this purpose.\n###### [Go to top](#top)"
    },
    {
      "metadata": {
        "_uuid": "a276b26993c902362e522d8a29a67ef670db103d"
      },
      "cell_type": "markdown",
      "source": "<a id=\"7\"></a> <br>\n# 2-2 Python: Basics\n"
    },
    {
      "metadata": {
        "_uuid": "732b4733f620d36d4ac78b27261933559f7086de",
        "trusted": true,
        "_kg_hide-input": true
      },
      "cell_type": "code",
      "source": "import this",
      "execution_count": null,
      "outputs": []
    },
    {
      "metadata": {
        "_uuid": "46d2f5efcea352bda6ee7f8721be0001548440f1"
      },
      "cell_type": "markdown",
      "source": "<a id=\"8\"></a> <br>\n### 2-2-1 Variables\nA name that is used to denote something or a value is called a variable. In python, variables can be declared and values can be assigned to it as follows,"
    },
    {
      "metadata": {
        "_uuid": "52c065c046f96806741321dcc3e40dffec8f75fe",
        "trusted": true,
        "_kg_hide-input": true
      },
      "cell_type": "code",
      "source": "x = 2\ny = 5\nxy = 'Hey'",
      "execution_count": null,
      "outputs": []
    },
    {
      "metadata": {
        "_uuid": "762c34fcdeed69fc79fb84d7bb86c5baf8f9152e"
      },
      "cell_type": "markdown",
      "source": "<a id=\"9\"></a> <br>\n### 2-2-2 Operators"
    },
    {
      "metadata": {
        "_uuid": "9dcd3e4436aa8050f116b6f7157cc986e762c794"
      },
      "cell_type": "markdown",
      "source": "| Symbol | Task Performed |\n|----|---|\n| +  | Addition |\n| -  | Subtraction |\n| /  | division |\n| %  | mod |\n| *  | multiplication |\n| //  | floor division |\n| **  | to the power of |\n\n### Relational Operators\n| Symbol | Task Performed |\n|----|---|\n| == | True, if it is equal |\n| !=  | True, if not equal to |\n| < | less than |\n| > | greater than |\n| <=  | less than or equal to |\n| >=  | greater than or equal to |\n### Bitwise Operators\n| Symbol | Task Performed |\n|----|---|\n| &  | Logical And |\n| l  | Logical OR |\n| ^  | XOR |\n| ~  | Negate |\n| >>  | Right shift |\n| <<  | Left shift |\n\n###### [Go to top](#top)"
    },
    {
      "metadata": {
        "_uuid": "281c637be82f68519f371353afa603fe842bd5fa"
      },
      "cell_type": "markdown",
      "source": "<a id=\"10\"></a> <br>\n# 2-3 Python : Functions"
    },
    {
      "metadata": {
        "_uuid": "b513caa4821bc20e6b833577ba4d894bce011e32"
      },
      "cell_type": "markdown",
      "source": "<br>\n`add_numbers` is a function that takes two numbers and adds them together."
    },
    {
      "metadata": {
        "_uuid": "700ebb9c4d8c7c57948194e3d848b4b480e06f9a",
        "trusted": true,
        "_kg_hide-input": true
      },
      "cell_type": "code",
      "source": "def add_numbers(x, y):\n    return x + y\n\nadd_numbers(1, 2)",
      "execution_count": null,
      "outputs": []
    },
    {
      "metadata": {
        "_uuid": "0fb081fa2f33e01e616a82aad306ab6490f48a03"
      },
      "cell_type": "markdown",
      "source": "<br>\n`add_numbers` updated to take an optional 3rd parameter. Using `print` allows printing of multiple expressions within a single cell."
    },
    {
      "metadata": {
        "_uuid": "b7dd7bc4f7f52acac95ac94586c74f4b59a22acb",
        "trusted": true,
        "_kg_hide-input": true
      },
      "cell_type": "code",
      "source": "def add_numbers(x,y,z=None):\n    if (z==None):\n        return x+y\n    else:\n        return x+y+z\n\nprint(add_numbers(1, 2))\nprint(add_numbers(1, 2, 3))",
      "execution_count": null,
      "outputs": []
    },
    {
      "metadata": {
        "_uuid": "51d91959b8088baa0884eaf191edc9520e012625"
      },
      "cell_type": "markdown",
      "source": "<br>\n`add_numbers` updated to take an optional flag parameter."
    },
    {
      "metadata": {
        "_uuid": "8f109910dd7dacbac0212d03b3a0d55e8d92b4bf",
        "trusted": true,
        "_kg_hide-input": true
      },
      "cell_type": "code",
      "source": "def add_numbers(x, y, z=None, flag=False):\n    if (flag):\n        print('Flag is true!')\n    if (z==None):\n        return x + y\n    else:\n        return x + y + z\n    \nprint(add_numbers(1, 2, flag=True))",
      "execution_count": null,
      "outputs": []
    },
    {
      "metadata": {
        "_uuid": "052a1ebfb11cba627a4ed7ae13360e15cfd2f5bc"
      },
      "cell_type": "markdown",
      "source": "<br>\n**Assign function** `add_numbers` to variable `a`."
    },
    {
      "metadata": {
        "_uuid": "774773afde862fefb51b22d9e676b44744410c6f",
        "trusted": true,
        "_kg_hide-input": true
      },
      "cell_type": "code",
      "source": "def add_numbers(x,y):\n    return x+y\n\na = add_numbers\na(1,2)",
      "execution_count": null,
      "outputs": []
    },
    {
      "metadata": {
        "_uuid": "54244074f574884d9c241727f559466cdc646793"
      },
      "cell_type": "markdown",
      "source": "<a id=\"11\"></a> <br>\n# 2-4 Python : Types and Sequences"
    },
    {
      "metadata": {
        "_uuid": "fe3bfa4b99b20b534a24cd4b04953de4c81a2032"
      },
      "cell_type": "markdown",
      "source": "<br>\nUse `type` to return the object's type."
    },
    {
      "metadata": {
        "_uuid": "ea5486e825425487854b66e135142787a8696547",
        "trusted": true,
        "_kg_hide-input": true
      },
      "cell_type": "code",
      "source": "type('This is a string')",
      "execution_count": null,
      "outputs": []
    },
    {
      "metadata": {
        "_uuid": "6b1b6307a4b2363c5f13c86a94a6c6ed83cf05d1",
        "trusted": true,
        "_kg_hide-input": true
      },
      "cell_type": "code",
      "source": "type(None)",
      "execution_count": null,
      "outputs": []
    },
    {
      "metadata": {
        "_uuid": "1bfe51959705a633d7ae10b8e807ba752809f8a2",
        "trusted": true,
        "_kg_hide-input": true
      },
      "cell_type": "code",
      "source": "type(1)",
      "execution_count": null,
      "outputs": []
    },
    {
      "metadata": {
        "_uuid": "9c6ea01bf5fac295d6ca5dea7a867fd769d9854f",
        "trusted": true,
        "_kg_hide-input": true
      },
      "cell_type": "code",
      "source": "type(1.0)",
      "execution_count": null,
      "outputs": []
    },
    {
      "metadata": {
        "_uuid": "08e7ecceb2d59d5964d039b1307736a106abef30",
        "trusted": true,
        "_kg_hide-input": true
      },
      "cell_type": "code",
      "source": "type(add_numbers)",
      "execution_count": null,
      "outputs": []
    },
    {
      "metadata": {
        "_uuid": "843a9232374917b366c4afadc94fd123e13bc2cf"
      },
      "cell_type": "markdown",
      "source": "<br>\nTuples are an **immutable** data structure (cannot be altered)."
    },
    {
      "metadata": {
        "_uuid": "02c0f949470c05c302705b8cbde9dbc4c5e9ec58",
        "trusted": true,
        "_kg_hide-input": true
      },
      "cell_type": "code",
      "source": "x = (1, 'a', 2, 'b')\ntype(x)",
      "execution_count": null,
      "outputs": []
    },
    {
      "metadata": {
        "_uuid": "32e3d57ead5741f615aaf0ec276583163a6fc1a7"
      },
      "cell_type": "markdown",
      "source": "<br>\nLists are a mutable data structure."
    },
    {
      "metadata": {
        "_uuid": "e559da4fdd4adcf955e36ee33209728c7f04c873",
        "trusted": true,
        "_kg_hide-input": true
      },
      "cell_type": "code",
      "source": "x = [1, 'a', 2, 'b']\ntype(x)",
      "execution_count": null,
      "outputs": []
    },
    {
      "metadata": {
        "_uuid": "1c25590aa57c37e383007ea43e9aebd08dbb7ef8"
      },
      "cell_type": "markdown",
      "source": "<br>\nUse `append` to append an object to a list."
    },
    {
      "metadata": {
        "_uuid": "46b3996bb68391469648cfaf732d9f891aad8e76",
        "trusted": true,
        "_kg_hide-input": true
      },
      "cell_type": "code",
      "source": "x.append(3.3)\nprint(x)",
      "execution_count": null,
      "outputs": []
    },
    {
      "metadata": {
        "_uuid": "a0a9f9ad271ff5cab43f7d95c00f917dfa42cda3"
      },
      "cell_type": "markdown",
      "source": "<br>\nThis is an example of how to loop through each item in the list."
    },
    {
      "metadata": {
        "_uuid": "fdbcbc6f491284146fb7ec2288a48dca70d028f0",
        "trusted": true,
        "_kg_hide-input": true
      },
      "cell_type": "code",
      "source": "for item in x:\n    print(item)",
      "execution_count": null,
      "outputs": []
    },
    {
      "metadata": {
        "_uuid": "a863bf6c33d37823812c0d373bc685f8018328c3"
      },
      "cell_type": "markdown",
      "source": "<br>\nOr using the indexing operator:"
    },
    {
      "metadata": {
        "_uuid": "34ebdc7a81ca55c6d96576e8e1032bb2e2a8c38d",
        "trusted": true,
        "_kg_hide-input": true
      },
      "cell_type": "code",
      "source": "i=0\nwhile( i != len(x) ):\n    print(x[i])\n    i = i + 1",
      "execution_count": null,
      "outputs": []
    },
    {
      "metadata": {
        "_uuid": "7accd0a14f6f94b5f8f87c28e772fd7e70f5aa89"
      },
      "cell_type": "markdown",
      "source": "<br>\nUse `+` to concatenate lists."
    },
    {
      "metadata": {
        "_uuid": "2e2d33c027d2d2e66444ea8c5bc16ac182604699",
        "trusted": true,
        "_kg_hide-input": true
      },
      "cell_type": "code",
      "source": "[1,2] + [3,4]",
      "execution_count": null,
      "outputs": []
    },
    {
      "metadata": {
        "_uuid": "8dac836d3bfd72d4ba18e0ad35e918fd5578e0c4"
      },
      "cell_type": "markdown",
      "source": "<br>\nUse `*` to repeat lists."
    },
    {
      "metadata": {
        "_uuid": "33fbab44facf2994b9a1f4f842b5b68db790c60c",
        "trusted": true,
        "_kg_hide-input": true
      },
      "cell_type": "code",
      "source": "[1]*3",
      "execution_count": null,
      "outputs": []
    },
    {
      "metadata": {
        "_uuid": "1bf6aa261fae9ee56cc8e2ec7ba789818619bfc7"
      },
      "cell_type": "markdown",
      "source": "<br>\nUse the `in` operator to check if something is inside a list."
    },
    {
      "metadata": {
        "_uuid": "9dcaf39b71a922a3a61f6565cb9025fe89291cc8",
        "trusted": true,
        "_kg_hide-input": true
      },
      "cell_type": "code",
      "source": "1 in [1, 2, 3]",
      "execution_count": null,
      "outputs": []
    },
    {
      "metadata": {
        "_uuid": "2fdc7e3a4da86bf2fc3daef510d521ff4f9e780a"
      },
      "cell_type": "markdown",
      "source": "<br>\nNow let's look at strings. Use bracket notation to slice a string.\n\n###### [Go to top](#top)"
    },
    {
      "metadata": {
        "_uuid": "31a527ad3d4ac52203a81f2aa05d6ccbcbefd7d0",
        "trusted": true,
        "_kg_hide-input": true
      },
      "cell_type": "code",
      "source": "x = 'This is a string'\nprint(x[0]) #first character\nprint(x[0:1]) #first character, but we have explicitly set the end character\nprint(x[0:2]) #first two characters\n",
      "execution_count": null,
      "outputs": []
    },
    {
      "metadata": {
        "_uuid": "a2da025858712f120a1708fa8de0da26c6b8b1de"
      },
      "cell_type": "markdown",
      "source": "<br>\nThis will return the last element of the string."
    },
    {
      "metadata": {
        "_uuid": "24cb16eaabaa7e13b0a4a69dfc6cdf71ffb0238b",
        "trusted": true,
        "_kg_hide-input": true
      },
      "cell_type": "code",
      "source": "x[-1]",
      "execution_count": null,
      "outputs": []
    },
    {
      "metadata": {
        "_uuid": "892cb74f3b1ba32053e1b854681e9520d9ae7578"
      },
      "cell_type": "markdown",
      "source": "<br>\nThis will return the slice starting from the 4th element from the end and stopping before the 2nd element from the end."
    },
    {
      "metadata": {
        "_uuid": "b947154182b9eb7aa08f5986eb768020e9eefdcb",
        "trusted": true,
        "_kg_hide-input": true
      },
      "cell_type": "code",
      "source": "x[-4:-2]",
      "execution_count": null,
      "outputs": []
    },
    {
      "metadata": {
        "_uuid": "7d88463b1e8c9555030af32e1e99cdd522c40610"
      },
      "cell_type": "markdown",
      "source": "<br>\nThis is a slice from the beginning of the string and stopping before the 3rd element."
    },
    {
      "metadata": {
        "_uuid": "961b4829e231286702b78c13f6ce68c780df7c56",
        "trusted": true,
        "_kg_hide-input": true
      },
      "cell_type": "code",
      "source": "x[:3]",
      "execution_count": null,
      "outputs": []
    },
    {
      "metadata": {
        "_uuid": "d365c72e42116bbd6c7ae960d77af0d89d35f201"
      },
      "cell_type": "markdown",
      "source": "<br>\nAnd this is a slice starting from the 3rd element of the string and going all the way to the end."
    },
    {
      "metadata": {
        "_uuid": "82c83cb0bfe09b269037a97ef0b00cd66254ab89",
        "trusted": true,
        "_kg_hide-input": true
      },
      "cell_type": "code",
      "source": "x[3:]",
      "execution_count": null,
      "outputs": []
    },
    {
      "metadata": {
        "_uuid": "b3914291465c80995a05d30f2842f38b1e2d7255",
        "trusted": true,
        "_kg_hide-input": true
      },
      "cell_type": "code",
      "source": "firstname = 'MJ'\nlastname = 'Bahmani'\n\nprint(firstname + ' ' + lastname)\nprint(firstname*3)\nprint('mj' in firstname)\n",
      "execution_count": null,
      "outputs": []
    },
    {
      "metadata": {
        "_uuid": "5e92142f11b79daaa369a0a031bab1979602457e"
      },
      "cell_type": "markdown",
      "source": "<br>\n`split` returns a list of all the words in a string, or a list split on a specific character."
    },
    {
      "metadata": {
        "_uuid": "63a7aea0881d73a1c2caab2b2bc0bf09d46e0402",
        "trusted": true,
        "_kg_hide-input": true
      },
      "cell_type": "code",
      "source": "firstname = 'Mr Dr Mj Bahmani'.split(' ')[0] # [0] selects the first element of the list\nlastname = 'Mr Dr Mj Bahmani'.split(' ')[-1] # [-1] selects the last element of the list\nprint(firstname)\nprint(lastname)",
      "execution_count": null,
      "outputs": []
    },
    {
      "metadata": {
        "_uuid": "a46edc198922ad4957bcdc3d990f43aaae35a464",
        "trusted": true,
        "_kg_hide-input": true
      },
      "cell_type": "code",
      "source": "'MJ' + str(2)",
      "execution_count": null,
      "outputs": []
    },
    {
      "metadata": {
        "_uuid": "50a1372d759bcc6e0b4d8852588ba9fe1c3a1200"
      },
      "cell_type": "markdown",
      "source": "<br>\n**Dictionaries** associate keys with values."
    },
    {
      "metadata": {
        "_uuid": "b6dd088e810aca788fc74f76d23777b2115e12d0",
        "trusted": true,
        "_kg_hide-input": true
      },
      "cell_type": "code",
      "source": "x = {'MJ Bahmani': 'Mohamadjavad.bahmani@gmail.com', 'irmatlab': 'irmatlab.ir@gmail.com'}\nx['MJ Bahmani'] # Retrieve a value by using the indexing operator\n",
      "execution_count": null,
      "outputs": []
    },
    {
      "metadata": {
        "_uuid": "6ec5106de063d06587a532835173cb3e15c4c074",
        "trusted": true,
        "_kg_hide-input": true
      },
      "cell_type": "code",
      "source": "x['MJ Bahmani'] = None\nx['MJ Bahmani']",
      "execution_count": null,
      "outputs": []
    },
    {
      "metadata": {
        "_uuid": "909deaebc50f94808fbdbe831ffbe1137066a2fe"
      },
      "cell_type": "markdown",
      "source": "<br>\nIterate over all of the keys:"
    },
    {
      "metadata": {
        "_uuid": "993e0c88238de00475ddd22a2f4594ce14aa936d",
        "scrolled": true,
        "trusted": true,
        "_kg_hide-input": true
      },
      "cell_type": "code",
      "source": "for name in x:\n    print(x[name])",
      "execution_count": null,
      "outputs": []
    },
    {
      "metadata": {
        "_uuid": "9248f6bfe90a9c867ca248b08ad81c8626eaf689"
      },
      "cell_type": "markdown",
      "source": "<br>\nIterate over all of the values:"
    },
    {
      "metadata": {
        "_uuid": "9f995195b06da4b3e64cabbe950d19570fbb910c",
        "trusted": true
      },
      "cell_type": "code",
      "source": "for email in x.values():\n    print(email)",
      "execution_count": null,
      "outputs": []
    },
    {
      "metadata": {
        "_uuid": "147f360dd1e8f878ae393c46648ec5f630d8d80c"
      },
      "cell_type": "markdown",
      "source": "<br>\nIterate over all of the **items** in the list:"
    },
    {
      "metadata": {
        "_uuid": "ab973ccad15b9f3af27e6a2cbd2425ede962be86",
        "trusted": true,
        "_kg_hide-input": true
      },
      "cell_type": "code",
      "source": "for name, email in x.items():\n    print(name,':',email) ",
      "execution_count": null,
      "outputs": []
    },
    {
      "metadata": {
        "_uuid": "3a909b20788d5df862adec16c2d6d15e021a74dc"
      },
      "cell_type": "markdown",
      "source": "<br>\nYou can unpack a sequence into different variables:"
    },
    {
      "metadata": {
        "_uuid": "296600127a5b164c23ad4aad0e622883f6ce56b1",
        "trusted": true,
        "_kg_hide-input": true
      },
      "cell_type": "code",
      "source": "x = ('MJ', 'Bahmani', 'Mohamadjavad.bahmani@gmail.com')\nfname, lname, email = x",
      "execution_count": null,
      "outputs": []
    },
    {
      "metadata": {
        "_uuid": "b1d783512fd2e8d76b8d1c147ed51f8584d203b7",
        "trusted": true,
        "_kg_hide-input": true
      },
      "cell_type": "code",
      "source": "fname",
      "execution_count": null,
      "outputs": []
    },
    {
      "metadata": {
        "_uuid": "a69c79b2a267725470ff843205f11c8a6e2a820e",
        "trusted": true,
        "_kg_hide-input": true
      },
      "cell_type": "code",
      "source": "lname",
      "execution_count": null,
      "outputs": []
    },
    {
      "metadata": {
        "_uuid": "6b069e526dd64ce6efba8cb51854ef2636e308b9"
      },
      "cell_type": "markdown",
      "source": "<a id=\"12\"></a> <br>\n# 2-5 Python: More on Strings\n\n###### [Go to top](#top)"
    },
    {
      "metadata": {
        "_uuid": "2aa934d05afb73cd7cdcb9ff223b2014798f3b18",
        "trusted": true,
        "_kg_hide-input": true
      },
      "cell_type": "code",
      "source": "print('MJ' + str(2))",
      "execution_count": null,
      "outputs": []
    },
    {
      "metadata": {
        "_uuid": "2a9b5f81e7ae92846e4bce5c8c34ff23490b83ef"
      },
      "cell_type": "markdown",
      "source": "<br>\nPython has a built in method for convenient string formatting."
    },
    {
      "metadata": {
        "_uuid": "a8fa5e6a70f8a2e642f0799b514d96f5e8b4cf67",
        "trusted": true,
        "_kg_hide-input": true
      },
      "cell_type": "code",
      "source": "sales_record = {\n'price': 3.24,\n'num_items': 4,\n'person': 'MJ'}\n\nsales_statement = '{} bought {} item(s) at a price of {} each for a total of {}'\n\nprint(sales_statement.format(sales_record['person'],\n                             sales_record['num_items'],\n                             sales_record['price'],\n                             sales_record['num_items']*sales_record['price']))\n",
      "execution_count": null,
      "outputs": []
    },
    {
      "metadata": {
        "_uuid": "7fee00e11e78abee9a0397711ca813c60b1b8c57"
      },
      "cell_type": "markdown",
      "source": "<a id=\"13\"></a> <br>\n# 2-6 Python:Reading and Writing CSV files"
    },
    {
      "metadata": {
        "_uuid": "3f79954fc298a34c3c231d35161dfb3bf743576d"
      },
      "cell_type": "markdown",
      "source": "<br>\nLet's import our datafile train.csv \n###### [Go to top](#top)"
    },
    {
      "metadata": {
        "_uuid": "ab5ab332ba1dc0fb1668d18df1b1771232cc4e35",
        "scrolled": true,
        "trusted": true,
        "_kg_hide-input": true
      },
      "cell_type": "code",
      "source": "\n\nwith open('../input/house-prices-advanced-regression-techniques/train.csv') as csvfile:\n    house_train = list(csv.DictReader(csvfile))\n    \nhouse_train[:1] # The first three dictionaries in our list.",
      "execution_count": null,
      "outputs": []
    },
    {
      "metadata": {
        "trusted": true,
        "_uuid": "1a7f91c1dafbb190b32a21907fc4c346f7eff0a0"
      },
      "cell_type": "code",
      "source": "type(house_train)",
      "execution_count": null,
      "outputs": []
    },
    {
      "metadata": {
        "_uuid": "ac3ffa35fd8725c3b1d81ab92470f1e5de19061b"
      },
      "cell_type": "markdown",
      "source": "<br>\n`csv.Dictreader` has read in each row of our csv file as a dictionary. `len` shows that our list is comprised of 234 dictionaries."
    },
    {
      "metadata": {
        "_uuid": "3f51c4e51000c69c3b3113f4cc8ed1e5e5fa005f",
        "trusted": true,
        "_kg_hide-input": true
      },
      "cell_type": "code",
      "source": "len(house_train)",
      "execution_count": null,
      "outputs": []
    },
    {
      "metadata": {
        "_uuid": "59457b14190fe59e900f644450b66f542b2320c4"
      },
      "cell_type": "markdown",
      "source": "<br>\n`keys` gives us the column names of our csv."
    },
    {
      "metadata": {
        "_uuid": "de6d753e74e0345bcc292cb6cfded49241b696f8",
        "trusted": true,
        "_kg_hide-input": true
      },
      "cell_type": "code",
      "source": "house_train[0].keys()",
      "execution_count": null,
      "outputs": []
    },
    {
      "metadata": {
        "_uuid": "391e4c865b352e70ae7bc5cbdef9559ccf396cb8"
      },
      "cell_type": "markdown",
      "source": "<br>\nHow to do some math action on the data set"
    },
    {
      "metadata": {
        "_uuid": "c654cdc458ff6f8d960caa80268f61e9f213e9e8",
        "trusted": true,
        "_kg_hide-input": true
      },
      "cell_type": "code",
      "source": "sum(float(d['SalePrice']) for d in house_train) / len(house_train)",
      "execution_count": null,
      "outputs": []
    },
    {
      "metadata": {
        "_uuid": "a12ec3e5c23e0660c9cfce427333afabe5a4384c"
      },
      "cell_type": "markdown",
      "source": "<br>\nUse `set` to return the unique values for the type of Sex  in our dataset have."
    },
    {
      "metadata": {
        "_uuid": "3541bdc6bd01a88c58e408bcc99411136a953538",
        "trusted": true,
        "_kg_hide-input": true
      },
      "cell_type": "code",
      "source": "SalePrice = set(d['SalePrice'] for d in house_train)\nSalePrice",
      "execution_count": null,
      "outputs": []
    },
    {
      "metadata": {
        "_uuid": "51bd65ce547fceba323660a1370a407d004e9abe"
      },
      "cell_type": "markdown",
      "source": "<a id=\"14\"></a> <br>\n# 2-7 Python: Dates and Times"
    },
    {
      "metadata": {
        "_uuid": "77aea246af2c06fe57b72bf45e424a4a6ae2e8c5",
        "trusted": true,
        "_kg_hide-input": true
      },
      "cell_type": "code",
      "source": "import datetime as dt\nimport time as tm",
      "execution_count": null,
      "outputs": []
    },
    {
      "metadata": {
        "_uuid": "f14fbbf5385512cc6d6631677a62ff620d51f9ae"
      },
      "cell_type": "markdown",
      "source": "<br>\n`time` returns the current time in seconds since the Epoch. (January 1st, 1970)\n\n###### [Go to top](#top)"
    },
    {
      "metadata": {
        "_uuid": "73ffa7423c31ed5efb8bab44ead79a4162711920",
        "trusted": true,
        "_kg_hide-input": true
      },
      "cell_type": "code",
      "source": "tm.time()",
      "execution_count": null,
      "outputs": []
    },
    {
      "metadata": {
        "_uuid": "83a2aceba5919534adf74e59c16baa61d6e24bda"
      },
      "cell_type": "markdown",
      "source": "<br>\nConvert the timestamp to datetime."
    },
    {
      "metadata": {
        "_uuid": "b0726eaf4ebb492d3da2396520a7328bbb00263c",
        "trusted": true,
        "_kg_hide-input": true
      },
      "cell_type": "code",
      "source": "dtnow = dt.datetime.fromtimestamp(tm.time())\ndtnow",
      "execution_count": null,
      "outputs": []
    },
    {
      "metadata": {
        "_uuid": "df2a8c0e8237c6c88ea5d8f446604d6c60435b72"
      },
      "cell_type": "markdown",
      "source": "<br>\nHandy datetime attributes:"
    },
    {
      "metadata": {
        "_uuid": "3ca2dd821f01874e23fc1eccf13b6584ba21e795",
        "trusted": true,
        "_kg_hide-input": true
      },
      "cell_type": "code",
      "source": "dtnow.year, dtnow.month, dtnow.day, dtnow.hour, dtnow.minute, dtnow.second # get year, month, day, etc.from a datetime",
      "execution_count": null,
      "outputs": []
    },
    {
      "metadata": {
        "_uuid": "85160de1a52833048050277d7df6713172b367c9"
      },
      "cell_type": "markdown",
      "source": "<br>\n`timedelta` is a duration expressing the difference between two dates."
    },
    {
      "metadata": {
        "_uuid": "c466ccf8a9f33641fec51525f0e8a03dbec8fd62",
        "trusted": true,
        "_kg_hide-input": true
      },
      "cell_type": "code",
      "source": "delta = dt.timedelta(days = 100) # create a timedelta of 100 days\ndelta",
      "execution_count": null,
      "outputs": []
    },
    {
      "metadata": {
        "_uuid": "c09e3bd1c17b5a67b8e340956fdb27b2e6b32b2d"
      },
      "cell_type": "markdown",
      "source": "<br>\n`date.today` returns the current local date."
    },
    {
      "metadata": {
        "_uuid": "539408df43c0aa1b449551e14b84b49110b04beb",
        "trusted": true,
        "_kg_hide-input": true
      },
      "cell_type": "code",
      "source": "today = dt.date.today()",
      "execution_count": null,
      "outputs": []
    },
    {
      "metadata": {
        "_uuid": "4022bf4458c6495ab1c4ddfcf82c155742641823",
        "trusted": true,
        "_kg_hide-input": true
      },
      "cell_type": "code",
      "source": "today - delta # the date 100 days ago",
      "execution_count": null,
      "outputs": []
    },
    {
      "metadata": {
        "_uuid": "38399dc2975b4f44e083ae319f37217286d9533a",
        "trusted": true,
        "_kg_hide-input": true
      },
      "cell_type": "code",
      "source": "today > today-delta # compare dates",
      "execution_count": null,
      "outputs": []
    },
    {
      "metadata": {
        "_uuid": "a8bcac1b08550c3f143e21cf7ca9049449304a5c"
      },
      "cell_type": "markdown",
      "source": "<a id=\"15\"></a> <br>\n# 2-8 Python: Objects and map()"
    },
    {
      "metadata": {
        "_uuid": "28be3905d37e6b7d2fb09a5f1a0e0c9df7e48559"
      },
      "cell_type": "markdown",
      "source": "<br>\nAn example of a class in python:"
    },
    {
      "metadata": {
        "_uuid": "2dc3faf4892b932cb1015902e83a13bd47125b20",
        "trusted": true,
        "_kg_hide-input": true
      },
      "cell_type": "code",
      "source": "class Person:\n    department = 'School of Information' #a class variable\n\n    def set_name(self, new_name): #a method\n        self.name = new_name\n    def set_location(self, new_location):\n        self.location = new_location",
      "execution_count": null,
      "outputs": []
    },
    {
      "metadata": {
        "_uuid": "1da9aaf6d97f50fff89e9d08b658adb3c691a262",
        "trusted": true,
        "_kg_hide-input": true
      },
      "cell_type": "code",
      "source": "person = Person()\nperson.set_name('MJ Bahmani')\nperson.set_location('MI, Berlin, Germany')\nprint('{} live in {} and works in the department {}'.format(person.name, person.location, person.department))",
      "execution_count": null,
      "outputs": []
    },
    {
      "metadata": {
        "_uuid": "8422c57273a71b4a74b6b4a9eb5535444356823d"
      },
      "cell_type": "markdown",
      "source": "<br>\nHere's an example of mapping the `min` function between two lists."
    },
    {
      "metadata": {
        "_uuid": "3052442e823ee0a450e404607e44cb3c321b508c",
        "trusted": true,
        "_kg_hide-input": true
      },
      "cell_type": "code",
      "source": "store1 = [10.00, 11.00, 12.34, 2.34]\nstore2 = [9.00, 11.10, 12.34, 2.01]\ncheapest = map(min, store1, store2)\ncheapest",
      "execution_count": null,
      "outputs": []
    },
    {
      "metadata": {
        "_uuid": "787b960d3c824c764a0eb7c2dab69d073eacfa9d"
      },
      "cell_type": "markdown",
      "source": "<br>\nNow let's iterate through the map object to see the values."
    },
    {
      "metadata": {
        "_uuid": "a9d6751e7c95241dbd10a44f0179a40df8ee3a7a",
        "scrolled": true,
        "trusted": true,
        "_kg_hide-input": true
      },
      "cell_type": "code",
      "source": "for item in cheapest:\n    print(item)",
      "execution_count": null,
      "outputs": []
    },
    {
      "metadata": {
        "_uuid": "e9c6c70988cd1459c7078f31fb9a43a275965d46"
      },
      "cell_type": "markdown",
      "source": "<a id=\"16\"></a> <br>\n# 2-9-Python : Lambda and List Comprehensions"
    },
    {
      "metadata": {
        "_uuid": "b6257386671f84333b4cfae3a979a2c1f8100e76"
      },
      "cell_type": "markdown",
      "source": "<br>\nHere's an example of lambda that takes in three parameters and adds the first two."
    },
    {
      "metadata": {
        "_uuid": "a306ae5687e20ae64431306035359f33aa465382",
        "trusted": true,
        "_kg_hide-input": true
      },
      "cell_type": "code",
      "source": "my_function = lambda a, b, c : a + b",
      "execution_count": null,
      "outputs": []
    },
    {
      "metadata": {
        "_uuid": "6bf98de2fab3b4239e41a093386d5fb9acad6367",
        "trusted": true,
        "_kg_hide-input": true
      },
      "cell_type": "code",
      "source": "my_function(1, 2, 3)",
      "execution_count": null,
      "outputs": []
    },
    {
      "metadata": {
        "_uuid": "5db80d702a02a1873aa09fa3acd26d922d74ff46"
      },
      "cell_type": "markdown",
      "source": "<br>\nLet's iterate from 0 to 9 and return the even numbers.\n\n###### [Go to top](#top)"
    },
    {
      "metadata": {
        "_uuid": "90e7eb5e7689d6ce448b8c0c801c2caef70e6d44",
        "trusted": true,
        "_kg_hide-input": true
      },
      "cell_type": "code",
      "source": "my_list = []\nfor number in range(0, 9):\n    if number % 2 == 0:\n        my_list.append(number)\nmy_list",
      "execution_count": null,
      "outputs": []
    },
    {
      "metadata": {
        "_uuid": "1bfe68a8553e5718a04b14a321262e6e88407b2c"
      },
      "cell_type": "markdown",
      "source": "<br>\nNow the same thing but with list comprehension."
    },
    {
      "metadata": {
        "_uuid": "ee501b9820296d1452845b8da201dbd69d4e0637",
        "trusted": true,
        "_kg_hide-input": true
      },
      "cell_type": "code",
      "source": "my_list = [number for number in range(0,10) if number % 2 == 0]\nmy_list",
      "execution_count": null,
      "outputs": []
    },
    {
      "metadata": {
        "_uuid": "e99f98ecb3393b8846fca621cdbad5dcaf1c60d1"
      },
      "cell_type": "markdown",
      "source": "<a id=\"17\"></a> <br>\n# 2-10 OOP\n1. **Class** − A user-defined prototype for an object that defines a set of attributes that characterize any object of the class. The attributes are data members (class variables and instance variables) and methods, accessed via dot notation.\n\n1. **Class variable** − A variable that is shared by all instances of a class. Class variables are defined within a class but outside any of the class's methods. Class variables are not used as frequently as instance variables are.\n\n1. **Data member** − A class variable or instance variable that holds data associated with a class and its objects.\n\n1. **Function overloading** − The assignment of more than one behavior to a particular function. The operation performed varies by the types of objects or arguments involved.\n\n1. **Instance variable** − A variable that is defined inside a method and belongs only to the current instance of a class.\n\n1. **Inheritance** − The transfer of the characteristics of a class to other classes that are derived from it.\n\n1. **Instance** − An individual object of a certain class. An object obj that belongs to a class Circle, for example, is an instance of the class Circle.\n\n1. **Instantiation** − The creation of an instance of a class.\n\n1. **Method** − A special kind of function that is defined in a class definition.\n\n1. **Object** − A unique instance of a data structure that's defined by its class. An object comprises both data members (class variables and instance variables) and methods.\n\n1. **Operator overloading** − The assignment of more than one function to a particular operator.[4]\n\n###### [Go to top](#top)"
    },
    {
      "metadata": {
        "_uuid": "1c3c77a74a2f45e0cfbec9e2a43ac089aaa09558",
        "trusted": true,
        "_kg_hide-input": true
      },
      "cell_type": "code",
      "source": "class FirstClass:\n    test = 'test'\n    def __init__(self,name,symbol):\n        self.name = name\n        self.symbol = symbol",
      "execution_count": null,
      "outputs": []
    },
    {
      "metadata": {
        "_uuid": "2dd1233bc33a4e9ca7bf528968267868f4d1bbe1",
        "trusted": true
      },
      "cell_type": "code",
      "source": "eg3 = FirstClass('Three',3)",
      "execution_count": null,
      "outputs": []
    },
    {
      "metadata": {
        "_uuid": "8bb856d47cf1407cccd295fe241825c2999e0756",
        "trusted": true,
        "_kg_hide-input": true
      },
      "cell_type": "code",
      "source": "print (eg3.test, eg3.name)",
      "execution_count": null,
      "outputs": []
    },
    {
      "metadata": {
        "_uuid": "3fa8ea01163ceea3f5cf46fe2f5eb843fa8a9cc7",
        "trusted": true,
        "_kg_hide-input": true
      },
      "cell_type": "code",
      "source": "class FirstClass:\n    def __init__(self,name,symbol):\n        self.name = name\n        self.symbol = symbol\n    def square(self):\n        return self.symbol * self.symbol\n    def cube(self):\n        return self.symbol * self.symbol * self.symbol\n    def multiply(self, x):\n        return self.symbol * x",
      "execution_count": null,
      "outputs": []
    },
    {
      "metadata": {
        "_uuid": "6086b2eaf54cc57b3447b7c0b47e4b67f208cba3",
        "trusted": true,
        "_kg_hide-input": true
      },
      "cell_type": "code",
      "source": "eg4 = FirstClass('Five',5)",
      "execution_count": null,
      "outputs": []
    },
    {
      "metadata": {
        "_uuid": "7029000f20ae1efcd694754d0db4b7e546cdafae",
        "trusted": true,
        "_kg_hide-input": true
      },
      "cell_type": "code",
      "source": "print (eg4.square())\nprint (eg4.cube())",
      "execution_count": null,
      "outputs": []
    },
    {
      "metadata": {
        "_uuid": "e60cf1e71ae99cb38e6b555ae43cb6948bdfc329",
        "trusted": true,
        "_kg_hide-input": true
      },
      "cell_type": "code",
      "source": "eg4.multiply(2)",
      "execution_count": null,
      "outputs": []
    },
    {
      "metadata": {
        "_uuid": "52ccbcd46b12d802454097d1a4c6ee52c551c4a3",
        "trusted": true,
        "_kg_hide-input": true
      },
      "cell_type": "code",
      "source": "FirstClass.multiply(eg4,2)",
      "execution_count": null,
      "outputs": []
    },
    {
      "metadata": {
        "_uuid": "c68d1914adc7080d3ee9b5592420ff95ea2870e7"
      },
      "cell_type": "markdown",
      "source": "<a id=\"18\"></a> <br>\n### 2-10-1 Inheritance\n\nThere might be cases where a new class would have all the previous characteristics of an already defined class. So the new class can \"inherit\" the previous class and add it's own methods to it. This is called as inheritance.\n\nConsider class SoftwareEngineer which has a method salary."
    },
    {
      "metadata": {
        "_uuid": "ea270e5c33b3e6d6fb3c7b66a0081e8d80825a78",
        "trusted": true,
        "_kg_hide-input": true
      },
      "cell_type": "code",
      "source": "class SoftwareEngineer:\n    def __init__(self,name,age):\n        self.name = name\n        self.age = age\n    def salary(self, value):\n        self.money = value\n        print (self.name,\"earns\",self.money)",
      "execution_count": null,
      "outputs": []
    },
    {
      "metadata": {
        "_uuid": "d63b58d87a62e2e692f25644b1bfd1b0c3c2ccff",
        "trusted": true,
        "_kg_hide-input": true
      },
      "cell_type": "code",
      "source": "a = SoftwareEngineer('Kartik',26)",
      "execution_count": null,
      "outputs": []
    },
    {
      "metadata": {
        "_uuid": "14e20781ff108a4cc13ac68de99478293413b3d1",
        "trusted": true
      },
      "cell_type": "code",
      "source": "a.salary(40000)",
      "execution_count": null,
      "outputs": []
    },
    {
      "metadata": {
        "_uuid": "89cf62c093a3c6369b77536f4700f70ddf84eebf",
        "trusted": true
      },
      "cell_type": "code",
      "source": "dir(SoftwareEngineer)",
      "execution_count": null,
      "outputs": []
    },
    {
      "metadata": {
        "_uuid": "edcf9e2d90a66ca3370d889ffd2109827229825f",
        "trusted": true,
        "_kg_hide-input": true
      },
      "cell_type": "code",
      "source": "class Artist:\n    def __init__(self,name,age):\n        self.name = name\n        self.age = age\n    def money(self,value):\n        self.money = value\n        print (self.name,\"earns\",self.money)\n    def artform(self, job):\n        self.job = job\n        print (self.name,\"is a\", self.job)",
      "execution_count": null,
      "outputs": []
    },
    {
      "metadata": {
        "_uuid": "92e459938effe069d173a19f94819e68b34d4eca",
        "trusted": true,
        "_kg_hide-input": true
      },
      "cell_type": "code",
      "source": "b = Artist('Nitin',20)",
      "execution_count": null,
      "outputs": []
    },
    {
      "metadata": {
        "_uuid": "a708a468bec5bc8314bc40ad7e830568805885bc",
        "trusted": true,
        "_kg_hide-input": true
      },
      "cell_type": "code",
      "source": "b.money(50000)\nb.artform('Musician')",
      "execution_count": null,
      "outputs": []
    },
    {
      "metadata": {
        "_uuid": "efa5a80085b1a7a6e98a88c5fd86da6c880421cf",
        "trusted": true
      },
      "cell_type": "code",
      "source": "dir(Artist)",
      "execution_count": null,
      "outputs": []
    },
    {
      "metadata": {
        "_uuid": "843c1001213bd2cfd201e99b682a5c5bfe78c0c6"
      },
      "cell_type": "markdown",
      "source": "<a id=\"19\"></a> <br>\n## 2-11 Python JSON\n"
    },
    {
      "metadata": {
        "_uuid": "153a10fa7584e50553490e6f765284192776ee5c",
        "trusted": true,
        "_kg_hide-input": true
      },
      "cell_type": "code",
      "source": "\n\n# some JSON:\nx =  '{ \"name\":\"John\", \"age\":30, \"city\":\"New York\"}'\n\n# parse x:\ny = json.loads(x)\n\n# the result is a Python dictionary:\nprint(y[\"age\"])",
      "execution_count": null,
      "outputs": []
    },
    {
      "metadata": {
        "_uuid": "85876511f2a41d866fe4bfa5208372f51536e6c5"
      },
      "cell_type": "markdown",
      "source": "<a id=\"20\"></a> <br>\n## 2-11-1 Convert from Python to JSON\n"
    },
    {
      "metadata": {
        "_uuid": "06ce583a101287b07e6e95d28426ae20d5b4e64b",
        "trusted": true,
        "_kg_hide-input": true
      },
      "cell_type": "code",
      "source": "# a Python object (dict):\nx = {\n  \"name\": \"John\",\n  \"age\": 30,\n  \"city\": \"New York\"\n}\n\n# convert into JSON:\ny = json.dumps(x)\n\n# the result is a JSON string:\nprint(y)",
      "execution_count": null,
      "outputs": []
    },
    {
      "metadata": {
        "_uuid": "b016e08d500dc749010ed6495e3c02e3f1144b4e"
      },
      "cell_type": "markdown",
      "source": "You can convert Python objects of the following types, into JSON strings:\n\n* dict\n* list\n* tuple\n* string\n* int\n* float\n* True\n* False\n* None\n\n###### [Go to top](#top)"
    },
    {
      "metadata": {
        "_uuid": "2906f3ee8c9392b9be7507c2c99a1fc3db9df95d",
        "trusted": true,
        "_kg_hide-input": true
      },
      "cell_type": "code",
      "source": "print(json.dumps({\"name\": \"John\", \"age\": 30}))\nprint(json.dumps([\"apple\", \"bananas\"]))\nprint(json.dumps((\"apple\", \"bananas\")))\nprint(json.dumps(\"hello\"))\nprint(json.dumps(42))\nprint(json.dumps(31.76))\nprint(json.dumps(True))\nprint(json.dumps(False))\nprint(json.dumps(None))",
      "execution_count": null,
      "outputs": []
    },
    {
      "metadata": {
        "_uuid": "5cd4ddf30b6996185afdc94f68ad675b258ebb9a"
      },
      "cell_type": "markdown",
      "source": "Convert a Python object containing all the legal data types:"
    },
    {
      "metadata": {
        "_uuid": "7a5a584c5912ac52a6fc9796e23eb4799d5b9261",
        "trusted": true,
        "_kg_hide-input": true
      },
      "cell_type": "code",
      "source": "x = {\n  \"name\": \"John\",\n  \"age\": 30,\n  \"married\": True,\n  \"divorced\": False,\n  \"children\": (\"Ann\",\"Billy\"),\n  \"pets\": None,\n  \"cars\": [\n    {\"model\": \"BMW 230\", \"mpg\": 27.5},\n    {\"model\": \"Ford Edge\", \"mpg\": 24.1}\n  ]\n}\n\nprint(json.dumps(x))",
      "execution_count": null,
      "outputs": []
    },
    {
      "metadata": {
        "_uuid": "27a8da102cf08964e9cde82973cd653306e3356f"
      },
      "cell_type": "markdown",
      "source": "<a id=\"21\"></a> <br>\n## 2-12 Python PIP\n"
    },
    {
      "metadata": {
        "_uuid": "5d13a95f504b710e977b4b589c200d5dadca5bc2"
      },
      "cell_type": "markdown",
      "source": "<a id=\"21\"></a> <br>\n### 2-12-1 What is a Package?\nA package contains all the files you need for a **module**.\n\n**Modules** are Python code libraries you can include in your project.\n\n###### [Go to top](#top)"
    },
    {
      "metadata": {
        "_uuid": "cfe1ddbfe7ac5b38f1fb0d36401aaa59bf706b06"
      },
      "cell_type": "markdown",
      "source": "<a id=\"22\"></a> <br>\n### 2-12-2 Install PIP\nIf you do not have PIP installed, you can download and install it from this page: https://pypi.org/project/pip/"
    },
    {
      "metadata": {
        "_uuid": "af880b807b69c45d77b21433937a13772453b481"
      },
      "cell_type": "markdown",
      "source": "<a id=\"23\"></a> <br>\n## 2-13 Python Try Except\nThe **try** block lets you test a block of code for errors.\n\nThe **except** block lets you handle the error.\n\nThe **finally** block lets you execute code, regardless of the result of the try- and except blocks."
    },
    {
      "metadata": {
        "_uuid": "078d0a98c43a742ff43460848dd6bf31a69975ce",
        "trusted": true
      },
      "cell_type": "code",
      "source": "try:\n  print(x)\nexcept NameError:\n  print(\"Variable x is not defined\")\nexcept:\n  print(\"Something else went wrong\")",
      "execution_count": null,
      "outputs": []
    },
    {
      "metadata": {
        "_uuid": "c5e3cbfe7a287cda43736597455b95e2117ccf4d",
        "trusted": true,
        "_kg_hide-input": true
      },
      "cell_type": "code",
      "source": "try:\n  print(x)\nexcept:\n  print(\"Something went wrong\")\nfinally:\n  print(\"The 'try except' is finished\")",
      "execution_count": null,
      "outputs": []
    },
    {
      "metadata": {
        "_uuid": "6d4ae311b6798fa03dff0516dfb59e7d271b040e"
      },
      "cell_type": "markdown",
      "source": "<a id=\"24\"></a> <br>\n## 2-14 Python Iterators\nAn iterator is an object that contains a countable number of values.\n\nAn iterator is an object that can be iterated upon, meaning that you can traverse through all the values.\n\nTechnically, in Python, an iterator is an object which implements the iterator protocol, which consist of the methods __iter__() and __next__().\n###### [Go to top](#top)"
    },
    {
      "metadata": {
        "_uuid": "0fd29f43681c38533591b6cd0d3cff27e75b6b0c"
      },
      "cell_type": "markdown",
      "source": "Return a iterator from a tuple, and print each value:"
    },
    {
      "metadata": {
        "_uuid": "d4f1c3ecdad754158b847660bfc92343470e9c55",
        "trusted": true,
        "_kg_hide-input": true
      },
      "cell_type": "code",
      "source": "mytuple = (\"apple\", \"banana\", \"cherry\")\nmyit = iter(mytuple)\n\nprint(next(myit))\nprint(next(myit))\nprint(next(myit))",
      "execution_count": null,
      "outputs": []
    },
    {
      "metadata": {
        "_uuid": "5a15f75b705e078ec25f1fb628af76ed19da0333"
      },
      "cell_type": "markdown",
      "source": "<a id=\"25\"></a> <br>\n### 2- 14-1 Looping Through an Iterator\n"
    },
    {
      "metadata": {
        "_uuid": "830a5d61f4d7afec6525f32b8f8e9c0f4783acc0",
        "trusted": true,
        "_kg_hide-input": true
      },
      "cell_type": "code",
      "source": "mytuple = (\"apple\", \"banana\", \"cherry\")\n\nfor x in mytuple:\n  print(x)",
      "execution_count": null,
      "outputs": []
    },
    {
      "metadata": {
        "_uuid": "e7410e1e9691615946998a833fec7bea80f50cc2"
      },
      "cell_type": "markdown",
      "source": "<a id=\"26\"></a> <br>\n## 2- 15 Dictionary\nA **dictionary** is a collection which is **unordered, changeable and indexed**. In Python dictionaries are written with curly brackets, and they have **keys and values**."
    },
    {
      "metadata": {
        "trusted": true,
        "_uuid": "85f51ded66c72e13b253c5775e5b1ac914459479",
        "_kg_hide-input": true
      },
      "cell_type": "code",
      "source": "thisdict =\t{\n  \"brand\": \"Ford\",\n  \"model\": \"Mustang\",\n  \"year\": 1964\n}\nprint(thisdict)",
      "execution_count": null,
      "outputs": []
    },
    {
      "metadata": {
        "_uuid": "437f23fd4289f0a757dc1c87a1e339a9c6f96c31"
      },
      "cell_type": "markdown",
      "source": "<a id=\"27\"></a> <br>\n## 2-16 Tuples\nA **tuple** is a collection which is **ordered and unchangeable**. In Python tuples are written with round brackets.\n\n"
    },
    {
      "metadata": {
        "trusted": true,
        "_uuid": "253ab9bcc46ce48b2f5b702bacad75db5d95de7c"
      },
      "cell_type": "code",
      "source": "thistuple = (\"apple\", \"banana\", \"cherry\")\nprint(thistuple)",
      "execution_count": null,
      "outputs": []
    },
    {
      "metadata": {
        "_uuid": "0d377a64581e95a0022045181a2c81530eba31d1"
      },
      "cell_type": "markdown",
      "source": "<a id=\"28\"></a> <br>\n## 2-19 Set\nA set is a collection which is unordered and unindexed. In Python sets are written with curly brackets.\n###### [Go to top](#top)"
    },
    {
      "metadata": {
        "trusted": true,
        "_uuid": "0d4b6b6a5efa453ed3a594173586fb63bb6475dc",
        "_kg_hide-input": true
      },
      "cell_type": "code",
      "source": "thisset = {\"apple\", \"banana\", \"cherry\"}\nprint(thisset)",
      "execution_count": null,
      "outputs": []
    },
    {
      "metadata": {
        "trusted": true,
        "_uuid": "dbb1998040fc3bdc67e0d690de391b4f47e117b8",
        "_kg_hide-input": true
      },
      "cell_type": "code",
      "source": "thisset = {\"apple\", \"banana\", \"cherry\"}\n\nfor x in thisset:\n  print(x)",
      "execution_count": null,
      "outputs": []
    },
    {
      "metadata": {
        "_uuid": "2f51152b3812f1d279b3a009fed112780aedbda4"
      },
      "cell_type": "markdown",
      "source": "<a id=\"29\"></a> <br>\n### 2-17-1 Add Items\nTo add one item to a set use the add() method.\n\nTo add more than one item to a set use the update() method.\n###### [Go to top](#top)"
    },
    {
      "metadata": {
        "trusted": true,
        "_uuid": "cccd895e65e0b5bbbfbecdd96b3322a43688de78",
        "_kg_hide-input": true
      },
      "cell_type": "code",
      "source": "thisset = {\"apple\", \"banana\", \"cherry\"}\n\nthisset.add(\"orange\")\n\nprint(thisset)",
      "execution_count": null,
      "outputs": []
    },
    {
      "metadata": {
        "_uuid": "1a8697f93952e076f6f949997676d40518d7b5a6"
      },
      "cell_type": "markdown",
      "source": "<a id=\"30\"></a> <br>\n# Python Packages\n* Numpy\n* Pandas\n* Matplotlib\n* Seaborn\n* Sklearn\n* plotly"
    },
    {
      "metadata": {
        "_uuid": "bfb701e45e93aea0b3ed64e148ca2fdb53559038",
        "collapsed": true
      },
      "cell_type": "markdown",
      "source": "<a id=\"31\"></a> <br>\n# 3- Numerical Python (NumPy)"
    },
    {
      "metadata": {
        "_uuid": "db9a850ebb440ca960a0713d822e20090bc10601",
        "trusted": true,
        "_kg_hide-input": true
      },
      "cell_type": "code",
      "source": "import numpy as np",
      "execution_count": null,
      "outputs": []
    },
    {
      "metadata": {
        "_uuid": "79699175b4559f509181d359393167f801735485"
      },
      "cell_type": "markdown",
      "source": "<a id=\"32\"></a> <br>\n## 3-1 NumPy :Creating Arrays"
    },
    {
      "metadata": {
        "_uuid": "fb5123cfa4687a819758ea82810984fa69d631e3"
      },
      "cell_type": "markdown",
      "source": "Create a list and convert it to a numpy array"
    },
    {
      "metadata": {
        "_uuid": "1cdc9404b31261269891723ddc59064802063041",
        "trusted": true,
        "_kg_hide-input": true
      },
      "cell_type": "code",
      "source": "mylist = [1, 2, 3]\nx = np.array(mylist)\nx",
      "execution_count": null,
      "outputs": []
    },
    {
      "metadata": {
        "_uuid": "85123a6bf0589918ff03fe9916b06635fa32b776"
      },
      "cell_type": "markdown",
      "source": "<br>\nOr just pass in a list directly"
    },
    {
      "metadata": {
        "_uuid": "dca7dd9319716e863760bb7c4e1e47a1c17d7b1b",
        "trusted": true,
        "_kg_hide-input": true
      },
      "cell_type": "code",
      "source": "y = np.array([4, 5, 6])\ny",
      "execution_count": null,
      "outputs": []
    },
    {
      "metadata": {
        "_uuid": "5a29d1e6bb19131b3bde9ae197b562cf5c905f2a"
      },
      "cell_type": "markdown",
      "source": "<br>\nPass in a list of lists to create a multidimensional array."
    },
    {
      "metadata": {
        "_uuid": "e18e77b6d1becf1b7ded3a4daa361dbe3f985d96",
        "trusted": true,
        "_kg_hide-input": true
      },
      "cell_type": "code",
      "source": "m = np.array([[7, 8, 9], [10, 11, 12]])\nm",
      "execution_count": null,
      "outputs": []
    },
    {
      "metadata": {
        "_uuid": "956c870e985074aadd2aa97b8a4c820c64bd7d2b"
      },
      "cell_type": "markdown",
      "source": "<br>\nUse the shape method to find the dimensions of the array. (rows, columns)."
    },
    {
      "metadata": {
        "_uuid": "7e5472233313b1eb806b7e9dfd2478f4155b23d0",
        "trusted": true,
        "_kg_hide-input": true
      },
      "cell_type": "code",
      "source": "m.shape",
      "execution_count": null,
      "outputs": []
    },
    {
      "metadata": {
        "_uuid": "d20433435f865bf4593ee8b5eae4cb2173794a57"
      },
      "cell_type": "markdown",
      "source": "<br>\n`arange` returns evenly spaced values within a given interval."
    },
    {
      "metadata": {
        "_uuid": "87aded8cbe232bfcb4ce246ecf1bac0b70d9477e",
        "trusted": true,
        "_kg_hide-input": true
      },
      "cell_type": "code",
      "source": "n = np.arange(0, 30, 2) # start at 0 count up by 2, stop before 30\nn",
      "execution_count": null,
      "outputs": []
    },
    {
      "metadata": {
        "_uuid": "ef6d0651972cb576188cd986830aae2d53bb20b8"
      },
      "cell_type": "markdown",
      "source": "<br>\n`reshape` returns an array with the same data with a new shape."
    },
    {
      "metadata": {
        "_uuid": "6722026f830d545bfd21a2760f80c20e33c0d757",
        "trusted": true,
        "_kg_hide-input": true
      },
      "cell_type": "code",
      "source": "n = n.reshape(3, 5) # reshape array to be 3x5\nn",
      "execution_count": null,
      "outputs": []
    },
    {
      "metadata": {
        "_uuid": "a47a0e9b094d81ae9ec235cd33d395ca34c379b3"
      },
      "cell_type": "markdown",
      "source": "<br>\n`linspace` returns evenly spaced numbers over a specified interval."
    },
    {
      "metadata": {
        "_uuid": "099d0b4b7f3c6e5aef6cebd760e3c6b8111205d8",
        "trusted": true,
        "_kg_hide-input": true
      },
      "cell_type": "code",
      "source": "o = np.linspace(0, 4, 9) # return 9 evenly spaced values from 0 to 4\no",
      "execution_count": null,
      "outputs": []
    },
    {
      "metadata": {
        "_uuid": "e5abb93fd66c344624ad2bb5e91ec1cd8a9ab220"
      },
      "cell_type": "markdown",
      "source": "<br>\n`resize` changes the shape and size of array in-place."
    },
    {
      "metadata": {
        "_uuid": "66de4ad6fbb8a2ffe7251b667de732fe0048c39c",
        "trusted": true,
        "_kg_hide-input": true
      },
      "cell_type": "code",
      "source": "o.resize(3, 3)\no",
      "execution_count": null,
      "outputs": []
    },
    {
      "metadata": {
        "_uuid": "95af33fa252b8ccc4afad8666e0a7ced2d83aee9"
      },
      "cell_type": "markdown",
      "source": "<br>\n`ones` returns a new array of given shape and type, filled with ones."
    },
    {
      "metadata": {
        "_uuid": "015e5a604fceb5b335760d85f090812416ab0edd",
        "trusted": true,
        "_kg_hide-input": true
      },
      "cell_type": "code",
      "source": "np.ones((3, 2))",
      "execution_count": null,
      "outputs": []
    },
    {
      "metadata": {
        "_uuid": "415ba7eb6ffcca82d1ad73b6e652d77c2b40c4c7"
      },
      "cell_type": "markdown",
      "source": "<br>\n`zeros` returns a new array of given shape and type, filled with zeros."
    },
    {
      "metadata": {
        "_uuid": "4833b4502eac60ec53ca4ab55f10653103be3584",
        "trusted": true,
        "_kg_hide-input": true
      },
      "cell_type": "code",
      "source": "np.zeros((2, 3))",
      "execution_count": null,
      "outputs": []
    },
    {
      "metadata": {
        "_uuid": "acbef4f6ab93b0ea5ed8bea30ec0eddbce8415f1"
      },
      "cell_type": "markdown",
      "source": "<br>\n`eye` returns a 2-D array with ones on the diagonal and zeros elsewhere."
    },
    {
      "metadata": {
        "_uuid": "5e4e8112e5829b290385bd076041d9d0c43bdd4e",
        "trusted": true,
        "_kg_hide-input": true
      },
      "cell_type": "code",
      "source": "np.eye(3)",
      "execution_count": null,
      "outputs": []
    },
    {
      "metadata": {
        "_uuid": "bb258a18b84c56c26c19e5e467f8886a3209eb6d"
      },
      "cell_type": "markdown",
      "source": "<br>\n`diag` extracts a diagonal or constructs a diagonal array."
    },
    {
      "metadata": {
        "_uuid": "0167bbb06dc5175a14e2d1844b3e92c3f601e156",
        "trusted": true,
        "_kg_hide-input": true
      },
      "cell_type": "code",
      "source": "np.diag(y)",
      "execution_count": null,
      "outputs": []
    },
    {
      "metadata": {
        "_uuid": "05f0ea0d69c70181a0ddee0b0a0670afc1a5761c"
      },
      "cell_type": "markdown",
      "source": "<br>\nCreate an array using repeating list (or see `np.tile`)"
    },
    {
      "metadata": {
        "_uuid": "76f7c4dd56d1f9ba9c8dcc3bf3b0e67bc62326de",
        "trusted": true,
        "_kg_hide-input": true
      },
      "cell_type": "code",
      "source": "np.array([1, 2, 3] * 3)",
      "execution_count": null,
      "outputs": []
    },
    {
      "metadata": {
        "_uuid": "e9d6935951d0df2a4d60f66b302da7b876006c71"
      },
      "cell_type": "markdown",
      "source": "<br>\nRepeat elements of an array using `repeat`."
    },
    {
      "metadata": {
        "_uuid": "7299b4990895d4ea8a59447489fa6fbc0cde5ea6",
        "trusted": true,
        "_kg_hide-input": true
      },
      "cell_type": "code",
      "source": "np.repeat([1, 2, 3], 3)",
      "execution_count": null,
      "outputs": []
    },
    {
      "metadata": {
        "_uuid": "01250c2ea726f387db5f3fab5a004e741e574a35"
      },
      "cell_type": "markdown",
      "source": "<a id=\"33\"></a> <br>\n## 3-2 Numpy:Combining Arrays\n\n###### [Go to top](#top)"
    },
    {
      "metadata": {
        "_uuid": "0dc57919256360d1ac309813fb6e836f75d17484",
        "trusted": true,
        "_kg_hide-input": true
      },
      "cell_type": "code",
      "source": "p = np.ones([2, 3], int)\np",
      "execution_count": null,
      "outputs": []
    },
    {
      "metadata": {
        "_uuid": "98aa86e98478bcad2ce35eded8e2adb825bbf709"
      },
      "cell_type": "markdown",
      "source": "<br>\nUse `vstack` to stack arrays in sequence vertically (row wise)."
    },
    {
      "metadata": {
        "_uuid": "48b0f8194df6a4f63932d97b24883d6a5d69d0df",
        "trusted": true,
        "_kg_hide-input": true
      },
      "cell_type": "code",
      "source": "np.vstack([p, 2*p])",
      "execution_count": null,
      "outputs": []
    },
    {
      "metadata": {
        "_uuid": "a2cf2eb6fdf3deccca31df9979dd978241adadb8"
      },
      "cell_type": "markdown",
      "source": "<br>\nUse `hstack` to stack arrays in sequence horizontally (column wise)."
    },
    {
      "metadata": {
        "_uuid": "834984b63056d7161f261d868d85b83f24403287",
        "trusted": true
      },
      "cell_type": "code",
      "source": "np.hstack([p, 2*p])",
      "execution_count": null,
      "outputs": []
    },
    {
      "metadata": {
        "_uuid": "b82f24eec48ab5206a47d04a36e5e639dad7f9a1"
      },
      "cell_type": "markdown",
      "source": "<a id=\"34\"></a> <br>\n## 3-3 Numpy:Operations\n\n###### [Go to top](#top)"
    },
    {
      "metadata": {
        "_uuid": "d58a4bb35b9f1525736b28ffc7e2b6ead4035266"
      },
      "cell_type": "markdown",
      "source": "Use `+`, `-`, `*`, `/` and `**` to perform element wise addition, subtraction, multiplication, division and power."
    },
    {
      "metadata": {
        "_uuid": "7ba8b42fcdcdc83e6f43df83b73665aa289e9786",
        "trusted": true
      },
      "cell_type": "code",
      "source": "print(x + y) # elementwise addition     [1 2 3] + [4 5 6] = [5  7  9]\nprint(x - y) # elementwise subtraction  [1 2 3] - [4 5 6] = [-3 -3 -3]",
      "execution_count": null,
      "outputs": []
    },
    {
      "metadata": {
        "_uuid": "cd42ade6bd206750b5dde1086b06bde519f2b1df",
        "trusted": true
      },
      "cell_type": "code",
      "source": "print(x * y) # elementwise multiplication  [1 2 3] * [4 5 6] = [4  10  18]\nprint(x / y) # elementwise divison         [1 2 3] / [4 5 6] = [0.25  0.4  0.5]",
      "execution_count": null,
      "outputs": []
    },
    {
      "metadata": {
        "_uuid": "3370d5b9b8ca04ed5be48331c3d6d4d08738ab5d",
        "trusted": true
      },
      "cell_type": "code",
      "source": "print(x**2) # elementwise power  [1 2 3] ^2 =  [1 4 9]",
      "execution_count": null,
      "outputs": []
    },
    {
      "metadata": {
        "_uuid": "e665d9db501694e29f54b02de56befaf69305629"
      },
      "cell_type": "markdown",
      "source": "<br>\n**Dot Product:**  \n\n$ \\begin{bmatrix}x_1 \\ x_2 \\ x_3\\end{bmatrix}\n\\cdot\n\\begin{bmatrix}y_1 \\\\ y_2 \\\\ y_3\\end{bmatrix}\n= x_1 y_1 + x_2 y_2 + x_3 y_3$"
    },
    {
      "metadata": {
        "_uuid": "b45a94567cf5801e05869bde614e831603b1599a",
        "trusted": true
      },
      "cell_type": "code",
      "source": "x.dot(y) # dot product  1*4 + 2*5 + 3*6",
      "execution_count": null,
      "outputs": []
    },
    {
      "metadata": {
        "_uuid": "b27ce9c3b1328461ba14f5efdd36079e3f827951",
        "trusted": true
      },
      "cell_type": "code",
      "source": "z = np.array([y, y**2])\nprint(len(z)) # number of rows of array",
      "execution_count": null,
      "outputs": []
    },
    {
      "metadata": {
        "_uuid": "30ab350aa70687cbdd087d86386b96504aec4479"
      },
      "cell_type": "markdown",
      "source": "<br>\nLet's look at transposing arrays. Transposing permutes the dimensions of the array."
    },
    {
      "metadata": {
        "_uuid": "2630bf81db6d00483f7e0abd3a3c3af28144d55f",
        "trusted": true
      },
      "cell_type": "code",
      "source": "z = np.array([y, y**2])\nz",
      "execution_count": null,
      "outputs": []
    },
    {
      "metadata": {
        "_uuid": "8bb90454186cab0c688be9a01ff84c7ca67fa6a9"
      },
      "cell_type": "markdown",
      "source": "<br>\nThe shape of array `z` is `(2,3)` before transposing."
    },
    {
      "metadata": {
        "_uuid": "bdcbfc2e1c9b985a83aefa1a5972aa919acb8365",
        "trusted": true
      },
      "cell_type": "code",
      "source": "z.shape",
      "execution_count": null,
      "outputs": []
    },
    {
      "metadata": {
        "_uuid": "3b796b3d6c4e9a90e4fb5332d708398bb848c2e4"
      },
      "cell_type": "markdown",
      "source": "<br>\nUse `.T` to get the transpose."
    },
    {
      "metadata": {
        "_uuid": "8ca46bf46ed15a5fa3af7e2d325ac68bc8785f05",
        "trusted": true
      },
      "cell_type": "code",
      "source": "z.T",
      "execution_count": null,
      "outputs": []
    },
    {
      "metadata": {
        "_uuid": "d2949665fb40cdb932376219b6d78156265d5ebf"
      },
      "cell_type": "markdown",
      "source": "<br>\nThe number of rows has swapped with the number of columns."
    },
    {
      "metadata": {
        "_uuid": "e48e8eff60259a9c865cf2dae88a3ce1641e826c",
        "trusted": true
      },
      "cell_type": "code",
      "source": "z.T.shape",
      "execution_count": null,
      "outputs": []
    },
    {
      "metadata": {
        "_uuid": "08fac1d78a66fdd513372cd31eaa5f973655e80a"
      },
      "cell_type": "markdown",
      "source": "<br>\nUse `.dtype` to see the data type of the elements in the array."
    },
    {
      "metadata": {
        "_uuid": "6e1ea214c877f23d670b72f06060c2dee1bdaee5",
        "trusted": true
      },
      "cell_type": "code",
      "source": "z.dtype",
      "execution_count": null,
      "outputs": []
    },
    {
      "metadata": {
        "_uuid": "70da3bcabbc0631bb11b48796106c07f4de41ba8"
      },
      "cell_type": "markdown",
      "source": "<br>\nUse `.astype` to cast to a specific type."
    },
    {
      "metadata": {
        "_uuid": "60684ed5f18c88c4ef4e2fe4207fa94eede9d993",
        "trusted": true
      },
      "cell_type": "code",
      "source": "z = z.astype('f')\nz.dtype",
      "execution_count": null,
      "outputs": []
    },
    {
      "metadata": {
        "_uuid": "e1199442dd07a4a4eef965c584d9e0f443c40013"
      },
      "cell_type": "markdown",
      "source": "<a id=\"35\"></a> <br>\n## 3-4 Numpy: Math Functions\n\n###### [Go to top](#top)"
    },
    {
      "metadata": {
        "_uuid": "01121300b7b5b8a83d213d4f065383da19d5f7d8"
      },
      "cell_type": "markdown",
      "source": "Numpy has many built in math functions that can be performed on arrays."
    },
    {
      "metadata": {
        "_uuid": "e1eaeb06cf68d055f6a5536ea72a17606b6762c1",
        "trusted": true
      },
      "cell_type": "code",
      "source": "a = np.array([-4, -2, 1, 3, 5])",
      "execution_count": null,
      "outputs": []
    },
    {
      "metadata": {
        "_uuid": "2918e83be55935fa03fd24924bc7f07a271c40d3",
        "trusted": true
      },
      "cell_type": "code",
      "source": "a.sum()",
      "execution_count": null,
      "outputs": []
    },
    {
      "metadata": {
        "_uuid": "2e86a6ea98c6c86dbe7a96612af4f37452b23670",
        "trusted": true
      },
      "cell_type": "code",
      "source": "a.max()",
      "execution_count": null,
      "outputs": []
    },
    {
      "metadata": {
        "_uuid": "1e8e48425f65e90a18a29fb7983dc6aa424f8445",
        "trusted": true
      },
      "cell_type": "code",
      "source": "a.min()",
      "execution_count": null,
      "outputs": []
    },
    {
      "metadata": {
        "_uuid": "27131855b2c26a5f90c6524d4a8c7ed0266bf378",
        "trusted": true
      },
      "cell_type": "code",
      "source": "a.mean()",
      "execution_count": null,
      "outputs": []
    },
    {
      "metadata": {
        "_uuid": "a020531df7f87af15577e986699e80f892300773",
        "trusted": true
      },
      "cell_type": "code",
      "source": "a.std()",
      "execution_count": null,
      "outputs": []
    },
    {
      "metadata": {
        "_uuid": "6d26c78ddd00e9387ba4214470debcc8147fd2bc"
      },
      "cell_type": "markdown",
      "source": "<br>\n`argmax` and `argmin` return the index of the maximum and minimum values in the array."
    },
    {
      "metadata": {
        "_uuid": "dd6f6aee91fc8dd99cc5a8359dc81ce1d443e77f",
        "trusted": true
      },
      "cell_type": "code",
      "source": "a.argmax()",
      "execution_count": null,
      "outputs": []
    },
    {
      "metadata": {
        "_uuid": "59aeec1ba92a0eb4c6928564e64445e6ce46cc3c",
        "trusted": true
      },
      "cell_type": "code",
      "source": "a.argmin()",
      "execution_count": null,
      "outputs": []
    },
    {
      "metadata": {
        "_uuid": "cf3ad4800506fd903882f60d811ca2548756e7c8"
      },
      "cell_type": "markdown",
      "source": "<a id=\"36\"></a> <br>\n\n## 3-5 Numpy:Indexing / Slicing\n###### [Go to top](#top)"
    },
    {
      "metadata": {
        "_uuid": "82ca4b616a46de3280b5a50df4c0114298d07aea",
        "trusted": true
      },
      "cell_type": "code",
      "source": "s = np.arange(13)**2\ns",
      "execution_count": null,
      "outputs": []
    },
    {
      "metadata": {
        "_uuid": "417c1b56b9d3eca21021422bde199036c3f08ec3"
      },
      "cell_type": "markdown",
      "source": "<br>\nUse bracket notation to get the value at a specific index. Remember that indexing starts at 0."
    },
    {
      "metadata": {
        "_uuid": "6f90f5dee19a73afde4e9455b47c0dbe86c9ce6b",
        "trusted": true
      },
      "cell_type": "code",
      "source": "s[0], s[4], s[-1]",
      "execution_count": null,
      "outputs": []
    },
    {
      "metadata": {
        "_uuid": "9d0cf8a30f9b1bd1f8dc60a46d3271e5cac235d0"
      },
      "cell_type": "markdown",
      "source": "<br>\nUse `:` to indicate a range. `array[start:stop]`\n\n\nLeaving `start` or `stop` empty will default to the beginning/end of the array."
    },
    {
      "metadata": {
        "_uuid": "1ea11cc5be369a751b250e7085cf507b122bcf88",
        "trusted": true
      },
      "cell_type": "code",
      "source": "s[1:5]",
      "execution_count": null,
      "outputs": []
    },
    {
      "metadata": {
        "_uuid": "dd42e9a4274baebf747c627767a273ef8ca9a26f"
      },
      "cell_type": "markdown",
      "source": "<br>\nUse negatives to count from the back."
    },
    {
      "metadata": {
        "_uuid": "ce51a60f59516b22174f97a4f7c6da6c75322a8b",
        "trusted": true
      },
      "cell_type": "code",
      "source": "s[-4:]",
      "execution_count": null,
      "outputs": []
    },
    {
      "metadata": {
        "_uuid": "0fdd94c22e7ceb4cac00001bd98f09d5d879613e"
      },
      "cell_type": "markdown",
      "source": "<br>\nA second `:` can be used to indicate step-size. `array[start:stop:stepsize]`\n\nHere we are starting 5th element from the end, and counting backwards by 2 until the beginning of the array is reached."
    },
    {
      "metadata": {
        "_uuid": "f28245bea6ab9a1bed7a76859ddfbb295ea95038",
        "trusted": true
      },
      "cell_type": "code",
      "source": "s[-5::-2]",
      "execution_count": null,
      "outputs": []
    },
    {
      "metadata": {
        "_uuid": "2f2295df96d9e7da01cde82bf87d5c7157bd9d21"
      },
      "cell_type": "markdown",
      "source": "<br>\nLet's look at a multidimensional array."
    },
    {
      "metadata": {
        "_uuid": "582e15f695a2891826ef4eb8e913a0dc61913898",
        "trusted": true
      },
      "cell_type": "code",
      "source": "r = np.arange(36)\nr.resize((6, 6))\nr",
      "execution_count": null,
      "outputs": []
    },
    {
      "metadata": {
        "_uuid": "26fd89ebfe4b92cedad89152753918608b68eafe"
      },
      "cell_type": "markdown",
      "source": "<br>\nUse bracket notation to slice: `array[row, column]`."
    },
    {
      "metadata": {
        "_uuid": "7bf0f1e77c5243c3e2b846f7b268c4891786621b",
        "trusted": true
      },
      "cell_type": "code",
      "source": "r[2, 2]",
      "execution_count": null,
      "outputs": []
    },
    {
      "metadata": {
        "_uuid": "fcbf322288c6671ef799299b5ddb828b68b8cab9"
      },
      "cell_type": "markdown",
      "source": "<br>\nAnd use : to select a range of rows or columns."
    },
    {
      "metadata": {
        "_uuid": "64d430ac4626977723c6357865a5297699e5323d",
        "trusted": true
      },
      "cell_type": "code",
      "source": "r[3, 3:6]",
      "execution_count": null,
      "outputs": []
    },
    {
      "metadata": {
        "_uuid": "e109144f7316b357450c4b3cae3cb61ad327f5d9"
      },
      "cell_type": "markdown",
      "source": "<br>\nHere we are selecting all the rows up to (and not including) row 2, and all the columns up to (and not including) the last column."
    },
    {
      "metadata": {
        "_uuid": "7b80dc3ba5c970afe2db37c23599d476399b1c68",
        "trusted": true
      },
      "cell_type": "code",
      "source": "r[:2, :-1]",
      "execution_count": null,
      "outputs": []
    },
    {
      "metadata": {
        "_uuid": "6c5126aa54a1e6b9d0d078f2226b68d3fb42c4a2"
      },
      "cell_type": "markdown",
      "source": "<br>\nThis is a slice of the last row, and only every other element."
    },
    {
      "metadata": {
        "_uuid": "054f80d47b0e2d249a9140321846ff7b50daba1f",
        "trusted": true
      },
      "cell_type": "code",
      "source": "r[-1, ::2]",
      "execution_count": null,
      "outputs": []
    },
    {
      "metadata": {
        "_uuid": "62e5354b353e1fe2e60036f2c3f94909a8af1b7b"
      },
      "cell_type": "markdown",
      "source": "<br>\nWe can also perform conditional indexing. Here we are selecting values from the array that are greater than 30. (Also see `np.where`)"
    },
    {
      "metadata": {
        "_uuid": "5476c43a5e7d195804cac7517abbdbcdbc234829",
        "trusted": true
      },
      "cell_type": "code",
      "source": "r[r > 30]",
      "execution_count": null,
      "outputs": []
    },
    {
      "metadata": {
        "_uuid": "77ae22731783157aaecdd019be77004504b943af"
      },
      "cell_type": "markdown",
      "source": "<br>\nHere we are assigning all values in the array that are greater than 30 to the value of 30.\n###### [Go to top](#top)"
    },
    {
      "metadata": {
        "_uuid": "6651ea99641526b7df83e7a9d9c1efe4eab9dc99",
        "trusted": true
      },
      "cell_type": "code",
      "source": "r[r > 30] = 30\nr",
      "execution_count": null,
      "outputs": []
    },
    {
      "metadata": {
        "_uuid": "6189d2e7dc9038dc1c4f2ed95a47fad76d700890"
      },
      "cell_type": "markdown",
      "source": "<a id=\"37\"></a> <br>\n## 3-6 Numpy :Copying Data"
    },
    {
      "metadata": {
        "_uuid": "ad2453d83a8db6de311e9265672e9b10b0337284"
      },
      "cell_type": "markdown",
      "source": "Be careful with copying and modifying arrays in NumPy!\n\n\n`r2` is a slice of `r`"
    },
    {
      "metadata": {
        "_uuid": "e6bb5dab7586dd4cfbc93b2cee05c57aae1e8518",
        "trusted": true
      },
      "cell_type": "code",
      "source": "r2 = r[:3,:3]\nr2",
      "execution_count": null,
      "outputs": []
    },
    {
      "metadata": {
        "_uuid": "65d42e0a4cade74ae9b2b587f182efaa8a4b1dbf"
      },
      "cell_type": "markdown",
      "source": "<br>\nSet this slice's values to zero ([:] selects the entire array)"
    },
    {
      "metadata": {
        "_uuid": "9026a103a457054124258eefca3492008f884ef4",
        "trusted": true
      },
      "cell_type": "code",
      "source": "r2[:] = 0\nr2",
      "execution_count": null,
      "outputs": []
    },
    {
      "metadata": {
        "_uuid": "f73d4004c9181b5cffddf6f13b452d7e40cea3f9"
      },
      "cell_type": "markdown",
      "source": "<br>\n`r` has also been changed!"
    },
    {
      "metadata": {
        "_uuid": "80c0d26d5cb0374f82929e3d79c183f5e116f4ea",
        "trusted": true
      },
      "cell_type": "code",
      "source": "r",
      "execution_count": null,
      "outputs": []
    },
    {
      "metadata": {
        "_uuid": "c8a21fd94e5dfcd322ec0017e89302533ac3cf2d"
      },
      "cell_type": "markdown",
      "source": "<br>\nTo avoid this, use `r.copy` to create a copy that will not affect the original array"
    },
    {
      "metadata": {
        "_uuid": "d2b2e17295f75a5a3b8dacf5ca65b4c4f3b6ca47",
        "trusted": true
      },
      "cell_type": "code",
      "source": "r_copy = r.copy()\nr_copy",
      "execution_count": null,
      "outputs": []
    },
    {
      "metadata": {
        "_uuid": "2ef3568f7ac932cc45931854410cbb9e4d909df8"
      },
      "cell_type": "markdown",
      "source": "<br>\nNow when r_copy is modified, r will not be changed."
    },
    {
      "metadata": {
        "_uuid": "4f7fa9e1b65eea1e9514fbd6f91a2720822430ba",
        "trusted": true
      },
      "cell_type": "code",
      "source": "r_copy[:] = 10\nprint(r_copy, '\\n')\nprint(r)",
      "execution_count": null,
      "outputs": []
    },
    {
      "metadata": {
        "_uuid": "752b09b0f8f1606d55bf0423d3f2d9cb162d3ce9"
      },
      "cell_type": "markdown",
      "source": "<a id=\"38\"></a> <br>\n## 3-7 Numpy: Iterating Over Arrays"
    },
    {
      "metadata": {
        "_uuid": "6a7f8c639e5f8cbdbd0cf2fe4c78504955ec2ccb"
      },
      "cell_type": "markdown",
      "source": "Let's create a new 4 by 3 array of random numbers 0-9."
    },
    {
      "metadata": {
        "_uuid": "c1496dab8d8f90434e8c44e63c225bfb3ca9713f",
        "trusted": true
      },
      "cell_type": "code",
      "source": "test = np.random.randint(0, 10, (4,3))\ntest",
      "execution_count": null,
      "outputs": []
    },
    {
      "metadata": {
        "_uuid": "bf971c58819a069592b3d5c195cf9e21faa4797b"
      },
      "cell_type": "markdown",
      "source": "<br>\nIterate by row:"
    },
    {
      "metadata": {
        "_uuid": "993bb7b7f1be5a0b088caac550c32257dd1c9297",
        "trusted": true
      },
      "cell_type": "code",
      "source": "for row in test:\n    print(row)",
      "execution_count": null,
      "outputs": []
    },
    {
      "metadata": {
        "_uuid": "f5b7fa4289acc25093efbbc99fe36355073bcd02"
      },
      "cell_type": "markdown",
      "source": "<br>\nIterate by index:"
    },
    {
      "metadata": {
        "_uuid": "9de357edca10cf7708e1c5b37ef5a0ad337fcbbf",
        "trusted": true
      },
      "cell_type": "code",
      "source": "for i in range(len(test)):\n    print(test[i])",
      "execution_count": null,
      "outputs": []
    },
    {
      "metadata": {
        "_uuid": "00ed3013376dff60b43f6f1eb5091580279063ad"
      },
      "cell_type": "markdown",
      "source": "<br>\nIterate by row and index:"
    },
    {
      "metadata": {
        "_uuid": "a75a7881baf87a49a3f48236fc9a9281f2ace310",
        "trusted": true
      },
      "cell_type": "code",
      "source": "for i, row in enumerate(test):\n    print('row', i, 'is', row)",
      "execution_count": null,
      "outputs": []
    },
    {
      "metadata": {
        "_uuid": "08f51011e8d4da3ab72a33ccb6daca3c97832eb4"
      },
      "cell_type": "markdown",
      "source": "<br>\nUse `zip` to iterate over multiple iterables."
    },
    {
      "metadata": {
        "_uuid": "63709cf63fc6e5596bc540055a287d56a57c55df",
        "trusted": true
      },
      "cell_type": "code",
      "source": "test2 = test**2\ntest2",
      "execution_count": null,
      "outputs": []
    },
    {
      "metadata": {
        "_uuid": "88776121d1063744cdb0d1df15320af35a40690f",
        "trusted": true
      },
      "cell_type": "code",
      "source": "for i, j in zip(test, test2):\n    print(i,'+',j,'=',i+j)",
      "execution_count": null,
      "outputs": []
    },
    {
      "metadata": {
        "_uuid": "c2ec9941ed71b0d102881252688723804c536b65"
      },
      "cell_type": "markdown",
      "source": "<a id=\"39\"></a> <br>\n## 3-8  Numpy: The Series Data Structure\nOne-dimensional ndarray with axis labels (including time series)"
    },
    {
      "metadata": {
        "_uuid": "ff60c47c0ee85b3534fa0eeb1fc6c18951e13a93",
        "trusted": true
      },
      "cell_type": "code",
      "source": "animals = ['Tiger', 'Bear', 'Moose']\npd.Series(animals)",
      "execution_count": null,
      "outputs": []
    },
    {
      "metadata": {
        "_uuid": "3b9d3593c2f04eb52439d1e2f6eaced42103b385",
        "trusted": true
      },
      "cell_type": "code",
      "source": "numbers = [1, 2, 3]\npd.Series(numbers)",
      "execution_count": null,
      "outputs": []
    },
    {
      "metadata": {
        "_uuid": "ac6b145a659c5c6e143e47a726be2d2bc904ea05",
        "trusted": true
      },
      "cell_type": "code",
      "source": "animals = ['Tiger', 'Bear', None]\npd.Series(animals)",
      "execution_count": null,
      "outputs": []
    },
    {
      "metadata": {
        "_uuid": "608363b045521c88d96135d4651624753a0a97f8",
        "trusted": true
      },
      "cell_type": "code",
      "source": "numbers = [1, 2, None]\npd.Series(numbers)",
      "execution_count": null,
      "outputs": []
    },
    {
      "metadata": {
        "_uuid": "81c84dd1739a442c3eca83911b9e9cd146beccf1",
        "trusted": true
      },
      "cell_type": "code",
      "source": "import numpy as np\nnp.nan == None",
      "execution_count": null,
      "outputs": []
    },
    {
      "metadata": {
        "_uuid": "ee829b3241dc2b99e7aeb8b16daa61f43516a08e",
        "trusted": true
      },
      "cell_type": "code",
      "source": "np.nan == np.nan",
      "execution_count": null,
      "outputs": []
    },
    {
      "metadata": {
        "_uuid": "c39a1b7d020fa502a055e4befa580529da3d9206",
        "trusted": true
      },
      "cell_type": "code",
      "source": "np.isnan(np.nan)",
      "execution_count": null,
      "outputs": []
    },
    {
      "metadata": {
        "_uuid": "703803f890a0c351d5122b4f509c0835b949481d",
        "trusted": true
      },
      "cell_type": "code",
      "source": "sports = {'Archery': 'Bhutan',\n          'Golf': 'Scotland',\n          'Sumo': 'Japan',\n          'Taekwondo': 'South Korea'}\ns = pd.Series(sports)\ns",
      "execution_count": null,
      "outputs": []
    },
    {
      "metadata": {
        "_uuid": "6a4a03374c688db5bc1cb49cf0ae67a166f33ab5",
        "trusted": true
      },
      "cell_type": "code",
      "source": "s.index",
      "execution_count": null,
      "outputs": []
    },
    {
      "metadata": {
        "_uuid": "16a45c1d82eb06da0e940aa9304455d5b6629723",
        "trusted": true
      },
      "cell_type": "code",
      "source": "s = pd.Series(['Tiger', 'Bear', 'Moose'], index=['India', 'America', 'Canada'])\ns",
      "execution_count": null,
      "outputs": []
    },
    {
      "metadata": {
        "_uuid": "d5c017e5124d3c8c62bbe91b16ae5e2fb76f2cd5",
        "trusted": true
      },
      "cell_type": "code",
      "source": "sports = {'Archery': 'Bhutan',\n          'Golf': 'Scotland',\n          'Sumo': 'Japan',\n          'Taekwondo': 'South Korea'}\ns = pd.Series(sports, index=['Golf', 'Sumo', 'Hockey'])\ns",
      "execution_count": null,
      "outputs": []
    },
    {
      "metadata": {
        "_uuid": "91a03b68b0698ad0f0736d0a8106bb4c2023437d"
      },
      "cell_type": "markdown",
      "source": "<a id=\"40\"></a> <br>\n# 3-9 Numpy: Querying a Series"
    },
    {
      "metadata": {
        "_uuid": "6c44f80eadf6e60f8d1d966594169e6e579fd91a",
        "trusted": true
      },
      "cell_type": "code",
      "source": "sports = {'Archery': 'Bhutan',\n          'Golf': 'Scotland',\n          'Sumo': 'Japan',\n          'Taekwondo': 'South Korea'}\ns = pd.Series(sports)\ns",
      "execution_count": null,
      "outputs": []
    },
    {
      "metadata": {
        "_uuid": "560e0377aa2d53cc14f61a42a6492f99932a6eab",
        "trusted": true
      },
      "cell_type": "code",
      "source": "s.iloc[3]",
      "execution_count": null,
      "outputs": []
    },
    {
      "metadata": {
        "_uuid": "2c0e34116ab3b36363b7d7ffde48d3520b493d50",
        "trusted": true
      },
      "cell_type": "code",
      "source": "s.loc['Golf']",
      "execution_count": null,
      "outputs": []
    },
    {
      "metadata": {
        "_uuid": "12dce7548346ce489c21f50e02a30e4a7dad6a81",
        "trusted": true
      },
      "cell_type": "code",
      "source": "s[3]",
      "execution_count": null,
      "outputs": []
    },
    {
      "metadata": {
        "_uuid": "a44e0fd0b5ea294bfde2383f3ed660bb4dc7c032",
        "trusted": true
      },
      "cell_type": "code",
      "source": "s['Golf']",
      "execution_count": null,
      "outputs": []
    },
    {
      "metadata": {
        "_uuid": "97f106d843bd9da560c4aaa36e9a2baf0fd5f820",
        "trusted": true
      },
      "cell_type": "code",
      "source": "sports = {99: 'Bhutan',\n          100: 'Scotland',\n          101: 'Japan',\n          102: 'South Korea'}\ns = pd.Series(sports)",
      "execution_count": null,
      "outputs": []
    },
    {
      "metadata": {
        "_uuid": "6c8d10a115a42956c1bf95a925006f1a8f44ac77",
        "trusted": true
      },
      "cell_type": "code",
      "source": "s = pd.Series([100.00, 120.00, 101.00, 3.00])\ns",
      "execution_count": null,
      "outputs": []
    },
    {
      "metadata": {
        "_uuid": "a877d83b4ea29606ab220884b742b9436640a87b",
        "trusted": true
      },
      "cell_type": "code",
      "source": "total = 0\nfor item in s:\n    total+=item\nprint(total)",
      "execution_count": null,
      "outputs": []
    },
    {
      "metadata": {
        "_uuid": "eb4aaac9d42d6ad0df5b0d766bf142cec13ca640",
        "trusted": true
      },
      "cell_type": "code",
      "source": "total = np.sum(s)\nprint(total)",
      "execution_count": null,
      "outputs": []
    },
    {
      "metadata": {
        "_uuid": "c5ec441b291558581a79c6bda7d67ee7df640ac4",
        "trusted": true
      },
      "cell_type": "code",
      "source": "#this creates a big series of random numbers\ns = pd.Series(np.random.randint(0,1000,10000))\ns.head()",
      "execution_count": null,
      "outputs": []
    },
    {
      "metadata": {
        "_uuid": "cafe2341bfb1b9419fcff2624e9973a12beb579a",
        "trusted": true
      },
      "cell_type": "code",
      "source": "len(s)",
      "execution_count": null,
      "outputs": []
    },
    {
      "metadata": {
        "_uuid": "b0028ee6c78f4715a1848458c3b5ef2ea75e601b",
        "trusted": true
      },
      "cell_type": "code",
      "source": "%%timeit -n 100\nsummary = 0\nfor item in s:\n    summary+=item",
      "execution_count": null,
      "outputs": []
    },
    {
      "metadata": {
        "_uuid": "bbc4da9b2ba74a04d797ff837bddf7553b4625d9",
        "trusted": true
      },
      "cell_type": "code",
      "source": "%%timeit -n 100\nsummary = np.sum(s)",
      "execution_count": null,
      "outputs": []
    },
    {
      "metadata": {
        "_uuid": "a9ef0f8d0db28ffb3f5c92c86dbcffd8b9d01840",
        "trusted": true
      },
      "cell_type": "code",
      "source": "s+=2 #adds two to each item in s using broadcasting\ns.head()",
      "execution_count": null,
      "outputs": []
    },
    {
      "metadata": {
        "_uuid": "f092ba84abb6a9172a23030b25caa23b7dea1c3f",
        "trusted": true
      },
      "cell_type": "code",
      "source": "for label, value in s.iteritems():\n    s.set_value(label, value+2)\ns.head()",
      "execution_count": null,
      "outputs": []
    },
    {
      "metadata": {
        "_uuid": "979c2ea48abace1804d37a316ecf8a7cb0b53aa2",
        "trusted": true
      },
      "cell_type": "code",
      "source": "%%timeit -n 10\ns = pd.Series(np.random.randint(0,1000,100))\nfor label, value in s.iteritems():\n    s.loc[label]= value+2",
      "execution_count": null,
      "outputs": []
    },
    {
      "metadata": {
        "_uuid": "84c6c0358bf55fd26254ae784ae2b60b3d7c3526",
        "trusted": true
      },
      "cell_type": "code",
      "source": "%%timeit -n 10\ns = pd.Series(np.random.randint(0,1000,100))\ns+=2\n",
      "execution_count": null,
      "outputs": []
    },
    {
      "metadata": {
        "_uuid": "35dabb561b6b3aaf6520311c68004880cadf5f7d",
        "trusted": true
      },
      "cell_type": "code",
      "source": "s = pd.Series([1, 2, 3])\ns.loc['Animal'] = 'Bears'\ns",
      "execution_count": null,
      "outputs": []
    },
    {
      "metadata": {
        "_uuid": "1f40d7bded3fd8cea73b8ab31e945929d75a57f4",
        "trusted": true
      },
      "cell_type": "code",
      "source": "original_sports = pd.Series({'Archery': 'Bhutan',\n                             'Golf': 'Scotland',\n                             'Sumo': 'Japan',\n                             'Taekwondo': 'South Korea'})\ncricket_loving_countries = pd.Series(['Australia',\n                                      'Barbados',\n                                      'Pakistan',\n                                      'England'], \n                                   index=['Cricket',\n                                          'Cricket',\n                                          'Cricket',\n                                          'Cricket'])\nall_countries = original_sports.append(cricket_loving_countries)",
      "execution_count": null,
      "outputs": []
    },
    {
      "metadata": {
        "_uuid": "95fa6b69a0927865a896c7a518ba848c3b994cad",
        "trusted": true
      },
      "cell_type": "code",
      "source": "original_sports",
      "execution_count": null,
      "outputs": []
    },
    {
      "metadata": {
        "_uuid": "bb617195f684747e2a79b87eb7307e832f2bfe50",
        "trusted": true
      },
      "cell_type": "code",
      "source": "cricket_loving_countries",
      "execution_count": null,
      "outputs": []
    },
    {
      "metadata": {
        "_uuid": "5274031be8720d734db1866f20ad048c4c2ea7da",
        "trusted": true
      },
      "cell_type": "code",
      "source": "all_countries",
      "execution_count": null,
      "outputs": []
    },
    {
      "metadata": {
        "_uuid": "33c9d9f54962decaa00a7328b124252ddcf2b661",
        "trusted": true
      },
      "cell_type": "code",
      "source": "all_countries.loc['Cricket']",
      "execution_count": null,
      "outputs": []
    },
    {
      "metadata": {
        "_uuid": "7653d84bad68f6370b1bdf484a2e9b6fb5982977"
      },
      "cell_type": "markdown",
      "source": "<a id=\"41\"></a> <br>\n## 4- Pandas:The DataFrame Data Structure\n You'll hone your pandas skills by learning how to organize, reshape, and aggregate multiple data sets to answer your specific questions.\n **Pandas**:\nTwo-dimensional size-mutable, potentially heterogeneous tabular data structure with labeled axes (rows and columns). Arithmetic operations align on both row and column labels. Can be thought of as a dict-like container for Series objects. The primary pandas data structure.\n\nPandas is capable of many tasks including:\n\nReading/writing many different data formats\nSelecting subsets of data\nCalculating across rows and down columns\nFinding and filling missing data\nApplying operations to independent groups within the data\nReshaping data into different forms\nCombing multiple datasets together\nAdvanced time-series functionality\nVisualization through matplotlib and seaborn\nAlthough pandas is very capable, it does not provide functionality for the entire data science pipeline. Pandas is typically the intermediate tool used for data exploration and cleaning squashed between data capturing and storage, and data modeling and predicting.\n###### [Go to top](#top)"
    },
    {
      "metadata": {
        "_uuid": "4e82246f590c37992f9190583cdb0035d93c0dcd",
        "trusted": true
      },
      "cell_type": "code",
      "source": "\npurchase_1 = pd.Series({'Name': 'Chris',\n                        'Item Purchased': 'Dog Food',\n                        'Cost': 22.50})\npurchase_2 = pd.Series({'Name': 'Kevyn',\n                        'Item Purchased': 'Kitty Litter',\n                        'Cost': 2.50})\npurchase_3 = pd.Series({'Name': 'Vinod',\n                        'Item Purchased': 'Bird Seed',\n                        'Cost': 5.00})\ndf = pd.DataFrame([purchase_1, purchase_2, purchase_3], index=['Store 1', 'Store 1', 'Store 2'])\ndf.head()",
      "execution_count": null,
      "outputs": []
    },
    {
      "metadata": {
        "_uuid": "835c6bb2dba772d11345bb2d5e40a992999d31b6",
        "trusted": true
      },
      "cell_type": "code",
      "source": "df.loc['Store 2']",
      "execution_count": null,
      "outputs": []
    },
    {
      "metadata": {
        "_uuid": "0b48c39ad30936af6ce6932597073451c6b2bac9",
        "trusted": true
      },
      "cell_type": "code",
      "source": "type(df.loc['Store 2'])",
      "execution_count": null,
      "outputs": []
    },
    {
      "metadata": {
        "_uuid": "c929565dc25461fd914c756431df400e6cdf058b",
        "trusted": true
      },
      "cell_type": "code",
      "source": "df.loc['Store 1']",
      "execution_count": null,
      "outputs": []
    },
    {
      "metadata": {
        "_uuid": "a11d22702f1be476a4d443cf811fe0a07a5dbbe4",
        "trusted": true
      },
      "cell_type": "code",
      "source": "df.loc['Store 1', 'Cost']",
      "execution_count": null,
      "outputs": []
    },
    {
      "metadata": {
        "_uuid": "adb35d3ac7e00c00ced7236aa7c3eaab3c85e675",
        "trusted": true
      },
      "cell_type": "code",
      "source": "df.T",
      "execution_count": null,
      "outputs": []
    },
    {
      "metadata": {
        "_uuid": "0e478aabe2d50b04f5bd9cca220150476adc8b1f",
        "trusted": true
      },
      "cell_type": "code",
      "source": "df.T.loc['Cost']",
      "execution_count": null,
      "outputs": []
    },
    {
      "metadata": {
        "_uuid": "2ed1c53b43bb00bc07a95642071be8ef2b5aa779",
        "trusted": true
      },
      "cell_type": "code",
      "source": "df['Cost']",
      "execution_count": null,
      "outputs": []
    },
    {
      "metadata": {
        "_uuid": "084454d6fcc47a738808b0c832d59aebc49be70c",
        "trusted": true
      },
      "cell_type": "code",
      "source": "df.loc['Store 1']['Cost']",
      "execution_count": null,
      "outputs": []
    },
    {
      "metadata": {
        "_uuid": "fdbddb30cb59ed8462a07795aaadbcd9ad2b1aa4",
        "trusted": true
      },
      "cell_type": "code",
      "source": "df.loc[:,['Name', 'Cost']]",
      "execution_count": null,
      "outputs": []
    },
    {
      "metadata": {
        "_uuid": "2541e9071816bd8f496ddf62b77cccb8fe325fbc",
        "trusted": true
      },
      "cell_type": "code",
      "source": "df.drop('Store 1')",
      "execution_count": null,
      "outputs": []
    },
    {
      "metadata": {
        "_uuid": "5fa5a22b81b92bae274d3a9afd76283ded17b478",
        "trusted": true
      },
      "cell_type": "code",
      "source": "df",
      "execution_count": null,
      "outputs": []
    },
    {
      "metadata": {
        "_uuid": "918e58d124508bd5edff0ed84ba6a4c252cdec3d",
        "trusted": true
      },
      "cell_type": "code",
      "source": "copy_df = df.copy()\ncopy_df = copy_df.drop('Store 1')\ncopy_df",
      "execution_count": null,
      "outputs": []
    },
    {
      "metadata": {
        "_uuid": "0e3830ddb755492607166e3975ac6e18c9436422",
        "trusted": true
      },
      "cell_type": "code",
      "source": "copy_df.drop",
      "execution_count": null,
      "outputs": []
    },
    {
      "metadata": {
        "_uuid": "946e48754fa8ed9914ef62b1c7049260861098db",
        "trusted": true
      },
      "cell_type": "code",
      "source": "del copy_df['Name']\ncopy_df",
      "execution_count": null,
      "outputs": []
    },
    {
      "metadata": {
        "_uuid": "de93b5c96c8b546bfb01b57d75347f5045ea01d1",
        "trusted": true
      },
      "cell_type": "code",
      "source": "df['Location'] = None\ndf",
      "execution_count": null,
      "outputs": []
    },
    {
      "metadata": {
        "_uuid": "42414bc5b478108d59aaf9b5dff463c95904097d",
        "trusted": true
      },
      "cell_type": "code",
      "source": "costs = df['Cost']\ncosts",
      "execution_count": null,
      "outputs": []
    },
    {
      "metadata": {
        "_uuid": "76922dc612283caa9821f793abac91dad9328c75",
        "trusted": true
      },
      "cell_type": "code",
      "source": "costs+=2\ncosts",
      "execution_count": null,
      "outputs": []
    },
    {
      "metadata": {
        "_uuid": "3ea1881948d05207d7dc2e1805c446adfa544959",
        "trusted": true
      },
      "cell_type": "code",
      "source": "df",
      "execution_count": null,
      "outputs": []
    },
    {
      "metadata": {
        "_uuid": "4d339cee9608b148762d7ad3068c362bbc9454f7"
      },
      "cell_type": "markdown",
      "source": "<a id=\"42\"></a> <br>\n# 4-1 Pandas:Dataframe Indexing and Loading\n\nAs a Data Scientist, you'll often find that the data you need is not in a single file. It may be spread across a number of text files, spreadsheets, or databases. You want to be able to import the data of interest as a collection of DataFrames and figure out how to combine them to answer your central questions.\n###### [Go to top](#top)"
    },
    {
      "metadata": {
        "_uuid": "53fa2f4cb18784de6d077871a606dcf5b1511862",
        "trusted": true
      },
      "cell_type": "code",
      "source": "df = pd.read_csv('../input/house-prices-advanced-regression-techniques/train.csv')\ndf.head()",
      "execution_count": null,
      "outputs": []
    },
    {
      "metadata": {
        "_uuid": "01a8c7bc0a10635dc10dd56ba6edcbe595013772",
        "trusted": true
      },
      "cell_type": "code",
      "source": "df.columns",
      "execution_count": null,
      "outputs": []
    },
    {
      "metadata": {
        "_uuid": "ffb1b09a5a8953e7dae65425890b652c214b1fb5",
        "trusted": true
      },
      "cell_type": "code",
      "source": "# Querying a DataFrame",
      "execution_count": null,
      "outputs": []
    },
    {
      "metadata": {
        "_uuid": "258b2c7201efba77d84b92286bbe69a6af240ca8",
        "trusted": true
      },
      "cell_type": "code",
      "source": "df['SalePrice'] > 0",
      "execution_count": null,
      "outputs": []
    },
    {
      "metadata": {
        "_uuid": "739f5037a2fcdd548abc5e68f5abcba3fcdb68e4",
        "trusted": true
      },
      "cell_type": "code",
      "source": "only_SalePrice = df.where(df['SalePrice'] > 0)\nonly_SalePrice.head()",
      "execution_count": null,
      "outputs": []
    },
    {
      "metadata": {
        "_uuid": "e420645f2daa14d2bf12b3370438b5c1741f5c52",
        "trusted": true
      },
      "cell_type": "code",
      "source": "only_SalePrice['SalePrice'].count()",
      "execution_count": null,
      "outputs": []
    },
    {
      "metadata": {
        "_uuid": "2c3561ac4d86a22f3984b11ebe1200100fc95417",
        "trusted": true
      },
      "cell_type": "code",
      "source": "df['SalePrice'].count()",
      "execution_count": null,
      "outputs": []
    },
    {
      "metadata": {
        "_uuid": "86e547ab11dacd87ccfe4657f8eb11fd9fcf3fef",
        "trusted": true
      },
      "cell_type": "code",
      "source": "only_SalePrice = only_SalePrice.dropna()\nonly_SalePrice.head()",
      "execution_count": null,
      "outputs": []
    },
    {
      "metadata": {
        "_uuid": "cf0829126fff5c075151fcc5418bbe9b945c14c9",
        "trusted": true
      },
      "cell_type": "code",
      "source": "only_SalePrice = df[df['SalePrice'] > 0]\nonly_SalePrice.head()",
      "execution_count": null,
      "outputs": []
    },
    {
      "metadata": {
        "_uuid": "5b957eae6c82a982ff9672d321deadf637aa421c",
        "trusted": true
      },
      "cell_type": "code",
      "source": "len(df[(df['SalePrice'] > 0) | (df['SalePrice'] > 0)])",
      "execution_count": null,
      "outputs": []
    },
    {
      "metadata": {
        "_uuid": "d076fe5f6dade0e49c2a35c7f9c64baeaf42a59d",
        "trusted": true
      },
      "cell_type": "code",
      "source": "df[(df['SalePrice'] > 0) & (df['SalePrice'] == 0)]",
      "execution_count": null,
      "outputs": []
    },
    {
      "metadata": {
        "_uuid": "717b27412a1a852c84f820272d8bf94a45022aca",
        "trusted": true,
        "_kg_hide-input": true
      },
      "cell_type": "markdown",
      "source": "<a id=\"43\"></a> <br>\n# Indexing Dataframes"
    },
    {
      "metadata": {
        "_uuid": "822efde2bbb058575dea289d057368d1af7d1394",
        "trusted": true,
        "_kg_hide-input": true
      },
      "cell_type": "code",
      "source": "df.head()",
      "execution_count": null,
      "outputs": []
    },
    {
      "metadata": {
        "_uuid": "b11ed5fbe0e8d35b303125afc78b04abf4dc0190",
        "trusted": true,
        "_kg_hide-input": true
      },
      "cell_type": "code",
      "source": "df['SalePrice'] = df.index\ndf = df.set_index('SalePrice')\ndf.head()",
      "execution_count": null,
      "outputs": []
    },
    {
      "metadata": {
        "_uuid": "4848977e538e02e0444862e632101a9d6bc97742",
        "trusted": true
      },
      "cell_type": "code",
      "source": "\ndf = df.reset_index()\ndf.head()",
      "execution_count": null,
      "outputs": []
    },
    {
      "metadata": {
        "_uuid": "5da1a958ccd43f5f5427415dc8682ccbbd589b3d",
        "trusted": true,
        "_kg_hide-input": true
      },
      "cell_type": "code",
      "source": "df = pd.read_csv('../input/titanic/train.csv')\ndf.head()",
      "execution_count": null,
      "outputs": []
    },
    {
      "metadata": {
        "_uuid": "9c818adf02056d59d534e4cb790dd6ce74c2b861",
        "trusted": true,
        "_kg_hide-input": true
      },
      "cell_type": "code",
      "source": "df['Age'].unique()",
      "execution_count": null,
      "outputs": []
    },
    {
      "metadata": {
        "_uuid": "c1adb2169bf24831daaa59655083e069d5fda4a5",
        "trusted": true,
        "_kg_hide-input": true
      },
      "cell_type": "code",
      "source": "df=df[df['Age'] == 50]\ndf.head()",
      "execution_count": null,
      "outputs": []
    },
    {
      "metadata": {
        "_uuid": "94d2eb99802e00e342e3a046f9b26a06a3c501a7"
      },
      "cell_type": "markdown",
      "source": "<a id=\"44\"></a> <br>\n# 4-2 Pandas:Missing values\n"
    },
    {
      "metadata": {
        "_uuid": "6946487c3ba7a29af57472c6fe03cde0ababd341",
        "trusted": true,
        "_kg_hide-input": true
      },
      "cell_type": "code",
      "source": "df = pd.read_csv('../input/titanic/train.csv')\ndf",
      "execution_count": null,
      "outputs": []
    },
    {
      "metadata": {
        "_uuid": "30cc0a09aa17b60a69ddccebbc0b6ceaf6077bfb",
        "trusted": true,
        "_kg_hide-input": true
      },
      "cell_type": "code",
      "source": "df.fillna",
      "execution_count": null,
      "outputs": []
    },
    {
      "metadata": {
        "_uuid": "be537539e67066ad45f9217988aa7ca7c23a370b",
        "trusted": true,
        "_kg_hide-input": true
      },
      "cell_type": "code",
      "source": "df = df.set_index('PassengerId')\ndf = df.sort_index()\ndf",
      "execution_count": null,
      "outputs": []
    },
    {
      "metadata": {
        "_uuid": "d2681f382b87e0eb47c41745576c2d35a8f55f5b",
        "trusted": true,
        "_kg_hide-input": true
      },
      "cell_type": "code",
      "source": "df = df.reset_index()\ndf = df.set_index(['PassengerId', 'Survived'])\ndf",
      "execution_count": null,
      "outputs": []
    },
    {
      "metadata": {
        "_uuid": "bea1dfdc973fe52315d701fecb6abb28edaecb81",
        "trusted": true,
        "_kg_hide-input": true
      },
      "cell_type": "code",
      "source": "df = df.fillna(method='ffill')\ndf.head()",
      "execution_count": null,
      "outputs": []
    },
    {
      "metadata": {
        "_uuid": "d79a17c1a5930de30ef9c238bf143cfc9962d24f"
      },
      "cell_type": "markdown",
      "source": "<a id=\"45\"></a> <br>\n# 4-3 Pandas :Merging Dataframes\npandas provides various facilities for easily combining together Series, DataFrame, and Panel objects with various kinds of set logic for the indexes and relational algebra functionality in the case of join / merge-type operations.\n"
    },
    {
      "metadata": {
        "_uuid": "4809bb7be74c5ef657c069446ecffb409937f952",
        "trusted": true,
        "_kg_hide-input": true
      },
      "cell_type": "code",
      "source": "df = pd.DataFrame([{'Name': 'MJ', 'Item Purchased': 'Sponge', 'Cost': 22.50},\n                   {'Name': 'Kevyn', 'Item Purchased': 'Kitty Litter', 'Cost': 2.50},\n                   {'Name': 'Filip', 'Item Purchased': 'Spoon', 'Cost': 5.00}],\n                  index=['Store 1', 'Store 1', 'Store 2'])\ndf",
      "execution_count": null,
      "outputs": []
    },
    {
      "metadata": {
        "_uuid": "f30d304abf7b7345a4e6e7c1105e190dd1a621d2",
        "trusted": true,
        "_kg_hide-input": true
      },
      "cell_type": "code",
      "source": "df['Date'] = ['December 1', 'January 1', 'mid-May']\ndf",
      "execution_count": null,
      "outputs": []
    },
    {
      "metadata": {
        "_uuid": "fbedab0057046e0510dd1331f03ffc18c9ba520b",
        "trusted": true,
        "_kg_hide-input": true
      },
      "cell_type": "code",
      "source": "df['Delivered'] = True\ndf",
      "execution_count": null,
      "outputs": []
    },
    {
      "metadata": {
        "_uuid": "8ed708570d219bad3637b3a907bb0a00be33b939",
        "trusted": true,
        "_kg_hide-input": true
      },
      "cell_type": "code",
      "source": "df['Feedback'] = ['Positive', None, 'Negative']\ndf",
      "execution_count": null,
      "outputs": []
    },
    {
      "metadata": {
        "_uuid": "fc549de9e14ccf0504553ee8960442180ba895b0",
        "trusted": true,
        "_kg_hide-output": false,
        "_kg_hide-input": true
      },
      "cell_type": "code",
      "source": "adf = df.reset_index()\nadf['Date'] = pd.Series({0: 'December 1', 2: 'mid-May'})\nadf",
      "execution_count": null,
      "outputs": []
    },
    {
      "metadata": {
        "_uuid": "80e056750b87aa3d692e6f3aa07ca4e40ce05512",
        "trusted": true,
        "_kg_hide-input": true
      },
      "cell_type": "code",
      "source": "staff_df = pd.DataFrame([{'Name': 'Kelly', 'Role': 'Director of HR'},\n                         {'Name': 'Sally', 'Role': 'Course liasion'},\n                         {'Name': 'James', 'Role': 'Grader'}])\nstaff_df = staff_df.set_index('Name')\nstudent_df = pd.DataFrame([{'Name': 'James', 'School': 'Business'},\n                           {'Name': 'Mike', 'School': 'Law'},\n                           {'Name': 'Sally', 'School': 'Engineering'}])\nstudent_df = student_df.set_index('Name')\nprint(staff_df.head())\nprint()\nprint(student_df.head())",
      "execution_count": null,
      "outputs": []
    },
    {
      "metadata": {
        "_uuid": "c0e141f46ea59c406f9c75a501139d808720bea6",
        "trusted": true,
        "_kg_hide-input": true
      },
      "cell_type": "code",
      "source": "pd.merge(staff_df, student_df, how='outer', left_index=True, right_index=True)",
      "execution_count": null,
      "outputs": []
    },
    {
      "metadata": {
        "_uuid": "117f0b5ad0687b45deead65bfd2cd2e2b42aec7a",
        "trusted": true,
        "_kg_hide-input": true
      },
      "cell_type": "code",
      "source": "pd.merge(staff_df, student_df, how='inner', left_index=True, right_index=True)",
      "execution_count": null,
      "outputs": []
    },
    {
      "metadata": {
        "_uuid": "0fcc1d0780a0b786ffbb77e88a1e1bdc5f415a4a",
        "trusted": true,
        "_kg_hide-input": true
      },
      "cell_type": "code",
      "source": "pd.merge(staff_df, student_df, how='left', left_index=True, right_index=True)",
      "execution_count": null,
      "outputs": []
    },
    {
      "metadata": {
        "_uuid": "d2492a6a8108c115d1f9c980a8b01242cc695a37",
        "trusted": true,
        "_kg_hide-input": true
      },
      "cell_type": "code",
      "source": "pd.merge(staff_df, student_df, how='right', left_index=True, right_index=True)",
      "execution_count": null,
      "outputs": []
    },
    {
      "metadata": {
        "_uuid": "7876e8102392731c7d48123c8c5dced6693a32d2",
        "trusted": true,
        "_kg_hide-input": true
      },
      "cell_type": "code",
      "source": "staff_df = staff_df.reset_index()\nstudent_df = student_df.reset_index()\npd.merge(staff_df, student_df, how='left', left_on='Name', right_on='Name')",
      "execution_count": null,
      "outputs": []
    },
    {
      "metadata": {
        "_uuid": "08c724f0bf11154a1244924bd7ca0b195fff3a21",
        "trusted": true,
        "_kg_hide-input": true
      },
      "cell_type": "code",
      "source": "staff_df = pd.DataFrame([{'Name': 'Kelly', 'Role': 'Director of HR', 'Location': 'State Street'},\n                         {'Name': 'Sally', 'Role': 'Course liasion', 'Location': 'Washington Avenue'},\n                         {'Name': 'James', 'Role': 'Grader', 'Location': 'Washington Avenue'}])\nstudent_df = pd.DataFrame([{'Name': 'James', 'School': 'Business', 'Location': '1024 Billiard Avenue'},\n                           {'Name': 'Mike', 'School': 'Law', 'Location': 'Fraternity House #22'},\n                           {'Name': 'Sally', 'School': 'Engineering', 'Location': '512 Wilson Crescent'}])\npd.merge(staff_df, student_df, how='left', left_on='Name', right_on='Name')",
      "execution_count": null,
      "outputs": []
    },
    {
      "metadata": {
        "_uuid": "da1dc7a2a97543ef9d338dd45fc74b8e66f6221e",
        "trusted": true,
        "_kg_hide-input": true
      },
      "cell_type": "code",
      "source": "staff_df = pd.DataFrame([{'First Name': 'Kelly', 'Last Name': 'Desjardins', 'Role': 'Director of HR'},\n                         {'First Name': 'Sally', 'Last Name': 'Brooks', 'Role': 'Course liasion'},\n                         {'First Name': 'James', 'Last Name': 'Wilde', 'Role': 'Grader'}])\nstudent_df = pd.DataFrame([{'First Name': 'James', 'Last Name': 'Hammond', 'School': 'Business'},\n                           {'First Name': 'Mike', 'Last Name': 'Smith', 'School': 'Law'},\n                           {'First Name': 'Sally', 'Last Name': 'Brooks', 'School': 'Engineering'}])\nstaff_df\nstudent_df\npd.merge(staff_df, student_df, how='inner', left_on=['First Name','Last Name'], right_on=['First Name','Last Name'])",
      "execution_count": null,
      "outputs": []
    },
    {
      "metadata": {
        "_uuid": "c47476edc934d4d851254db98b156de91018a0c8"
      },
      "cell_type": "markdown",
      "source": "<a id=\"46\"></a> <br>\n# 4-4 Idiomatic Pandas: Making Code Pandorable\n"
    },
    {
      "metadata": {
        "_uuid": "2cd537dc9b3bd93a924d808ef8d6377853dae984",
        "trusted": true,
        "_kg_hide-input": true
      },
      "cell_type": "code",
      "source": "\ndf = pd.read_csv('../input/titanic/train.csv')\ndf",
      "execution_count": null,
      "outputs": []
    },
    {
      "metadata": {
        "_uuid": "6ec456b0ba8db3f621911ad4c3a36008b04cfc7f",
        "trusted": true,
        "_kg_hide-input": true
      },
      "cell_type": "code",
      "source": "df = df[df['Age']==50]\ndf.set_index(['PassengerId','Survived'], inplace=True)\ndf.rename(columns={'Pclass': 'pclass'})",
      "execution_count": null,
      "outputs": []
    },
    {
      "metadata": {
        "_uuid": "ef246335b484cd563b29cafd6c178820c04a6f0f"
      },
      "cell_type": "markdown",
      "source": "<a id=\"47\"></a> <br>\n## 4-5 Pandas :Group by"
    },
    {
      "metadata": {
        "_uuid": "b45f3ee990bce0101774749b4b81e24b81911ad6",
        "trusted": true,
        "_kg_hide-input": true
      },
      "cell_type": "code",
      "source": "\ndf = pd.read_csv('../input/titanic/train.csv')\ndf = df[df['Age']==50]\ndf",
      "execution_count": null,
      "outputs": []
    },
    {
      "metadata": {
        "_uuid": "1c9afa54368039e6439950f57d39e5e0ae1faf7a",
        "trusted": true,
        "_kg_hide-input": true
      },
      "cell_type": "code",
      "source": "df.head()",
      "execution_count": null,
      "outputs": []
    },
    {
      "metadata": {
        "_uuid": "49994af42a822d8e0ad579866d12fdcd3a7b65ba"
      },
      "cell_type": "markdown",
      "source": "<a id=\"48\"></a> <br>\n## 4-6 Pandas:Scales\n"
    },
    {
      "metadata": {
        "_uuid": "ef0c2c453afcd5f43e37f27dd3dccd01aa7e33c0",
        "trusted": true,
        "_kg_hide-input": true
      },
      "cell_type": "code",
      "source": "df = pd.DataFrame(['A+', 'A', 'A-', 'B+', 'B', 'B-', 'C+', 'C', 'C-', 'D+', 'D'],\n                  index=['excellent', 'excellent', 'excellent', 'good', 'good', 'good', 'ok', 'ok', 'ok', 'poor', 'poor'])\ndf.rename(columns={0: 'Grades'}, inplace=True)\ndf",
      "execution_count": null,
      "outputs": []
    },
    {
      "metadata": {
        "_uuid": "cc490b8a1f851253430185eaab0d8a5ac1b843b8",
        "trusted": true,
        "_kg_hide-input": true
      },
      "cell_type": "code",
      "source": "df['Grades'].astype('category').head()",
      "execution_count": null,
      "outputs": []
    },
    {
      "metadata": {
        "_uuid": "388f3454ed9fcc1b88c898e329c0c2d4b062df1f",
        "trusted": true,
        "_kg_hide-input": true
      },
      "cell_type": "code",
      "source": "grades = df['Grades'].astype('category',\n                             categories=['D', 'D+', 'C-', 'C', 'C+', 'B-', 'B', 'B+', 'A-', 'A', 'A+'],\n                             ordered=True)\ngrades.head()",
      "execution_count": null,
      "outputs": []
    },
    {
      "metadata": {
        "_uuid": "51a0c5d18dbc6c395b900c34e9e590591d671676",
        "trusted": true,
        "_kg_hide-input": true
      },
      "cell_type": "code",
      "source": "grades > 'C'",
      "execution_count": null,
      "outputs": []
    },
    {
      "metadata": {
        "_uuid": "d205d889ce4d23e00f2ced7864c044e9d3d3ec84"
      },
      "cell_type": "markdown",
      "source": "<a id=\"49\"></a> <br>\n## 4-7 Pandas:Date Functionality\n###### [Go to top](#top)"
    },
    {
      "metadata": {
        "_uuid": "a466f75d44bdabf52ddb21d0c173d9421afce7d9"
      },
      "cell_type": "markdown",
      "source": "<a id=\"50\"></a> <br>\n### 4-7-1 Timestamp"
    },
    {
      "metadata": {
        "_uuid": "80a449e3cac139ac3b9697dba331363538a1a65f",
        "trusted": true,
        "_kg_hide-input": true
      },
      "cell_type": "code",
      "source": "pd.Timestamp('9/1/2016 10:05AM')",
      "execution_count": null,
      "outputs": []
    },
    {
      "metadata": {
        "_uuid": "c39545f2495d3f837c6b75dfd57b1a53c3d27d75"
      },
      "cell_type": "markdown",
      "source": "<a id=\"51\"></a> <br>\n### 4-7-2 Period"
    },
    {
      "metadata": {
        "_uuid": "3c160f45b74a5e4faecbf6661978e9c59e933e14",
        "trusted": true,
        "_kg_hide-input": true
      },
      "cell_type": "code",
      "source": "pd.Period('1/2016')",
      "execution_count": null,
      "outputs": []
    },
    {
      "metadata": {
        "_uuid": "124c5a5ba7872ab55b3cd1fbbe18669747124eea",
        "trusted": true,
        "_kg_hide-input": true
      },
      "cell_type": "code",
      "source": "pd.Period('3/5/2016')",
      "execution_count": null,
      "outputs": []
    },
    {
      "metadata": {
        "_uuid": "f19b87e81ba7aa0d8adb850d75d9452cf3a73ddf"
      },
      "cell_type": "markdown",
      "source": "<a id=\"52\"></a> <br>\n### 4-7-3 DatetimeIndex"
    },
    {
      "metadata": {
        "_uuid": "68a99def5b8fbd9839cf35667a3481ed23c476c0",
        "trusted": true,
        "_kg_hide-input": true
      },
      "cell_type": "code",
      "source": "t1 = pd.Series(list('abc'), [pd.Timestamp('2016-09-01'), pd.Timestamp('2016-09-02'), pd.Timestamp('2016-09-03')])\nt1",
      "execution_count": null,
      "outputs": []
    },
    {
      "metadata": {
        "_uuid": "073eeeb51e53b50660a822eb7484d4e8b72a7dfa",
        "trusted": true,
        "_kg_hide-input": true
      },
      "cell_type": "code",
      "source": "type(t1.index)",
      "execution_count": null,
      "outputs": []
    },
    {
      "metadata": {
        "_uuid": "c891236e512838ed6088e02c88dd888029b226a3"
      },
      "cell_type": "markdown",
      "source": "<a id=\"53\"></a> <br>\n### 4-7-4 PeriodIndex"
    },
    {
      "metadata": {
        "_uuid": "5a19abe4e4a7324a8f7565c66f8270ab9eb3cae6",
        "trusted": true,
        "_kg_hide-input": true
      },
      "cell_type": "code",
      "source": "t2 = pd.Series(list('def'), [pd.Period('2016-09'), pd.Period('2016-10'), pd.Period('2016-11')])\nt2",
      "execution_count": null,
      "outputs": []
    },
    {
      "metadata": {
        "_uuid": "522200c3bbb47e10177f1c63a0ed3bfb49cbcf47",
        "trusted": true,
        "_kg_hide-input": true
      },
      "cell_type": "code",
      "source": "type(t2.index)",
      "execution_count": null,
      "outputs": []
    },
    {
      "metadata": {
        "_uuid": "50e147a4abff8fd3014f3fb2a105f516b4a5ea2f"
      },
      "cell_type": "markdown",
      "source": "<a id=\"54\"></a> <br>\n## 4-8 Pandas: Converting to Datetime"
    },
    {
      "metadata": {
        "_uuid": "862d2bc5c5b430ed2be1292b9d3b5efe8a3c9cc1",
        "trusted": true,
        "_kg_hide-input": true
      },
      "cell_type": "code",
      "source": "d1 = ['2 June 2013', 'Aug 29, 2014', '2015-06-26', '7/12/16']\nts3 = pd.DataFrame(np.random.randint(10, 100, (4,2)), index=d1, columns=list('ab'))\nts3",
      "execution_count": null,
      "outputs": []
    },
    {
      "metadata": {
        "_uuid": "840963eeb8ca7bfe0a5d3167211e74d48446fe3a",
        "trusted": true,
        "_kg_hide-input": true
      },
      "cell_type": "code",
      "source": "ts3.index = pd.to_datetime(ts3.index)\nts3",
      "execution_count": null,
      "outputs": []
    },
    {
      "metadata": {
        "_uuid": "e2482002fae0947549bdd81a3da93c8e0cde40fe",
        "trusted": true,
        "_kg_hide-input": true
      },
      "cell_type": "code",
      "source": "pd.to_datetime('4.7.12', dayfirst=True)",
      "execution_count": null,
      "outputs": []
    },
    {
      "metadata": {
        "_uuid": "cae5847092e33cba7b657a90810a7ef35ae307e4",
        "trusted": true,
        "_kg_hide-input": true
      },
      "cell_type": "code",
      "source": "pd.Timestamp('9/3/2016')-pd.Timestamp('9/1/2016')",
      "execution_count": null,
      "outputs": []
    },
    {
      "metadata": {
        "_uuid": "c54a7d88507df86710fc585582b2074cb8d5aa5a"
      },
      "cell_type": "markdown",
      "source": "<a id=\"55\"></a> <br>\n### 4-8-1 Timedeltas"
    },
    {
      "metadata": {
        "_uuid": "fe333509538c1ec2bf81fda4613344cfa699b410",
        "trusted": true,
        "_kg_hide-input": true
      },
      "cell_type": "code",
      "source": "pd.Timestamp('9/3/2016')-pd.Timestamp('9/1/2016')",
      "execution_count": null,
      "outputs": []
    },
    {
      "metadata": {
        "_uuid": "08e10cce4428eaa329eb84677c755b0307488bfa",
        "trusted": true,
        "_kg_hide-output": false,
        "_kg_hide-input": true
      },
      "cell_type": "code",
      "source": "pd.Timestamp('9/2/2016 8:10AM') + pd.Timedelta('12D 3H')",
      "execution_count": null,
      "outputs": []
    },
    {
      "metadata": {
        "_uuid": "a73485dcf7310c754e69ab5ed802d7e466684242"
      },
      "cell_type": "markdown",
      "source": "<a id=\"56\"></a> <br>\n### 4-8-2 Working with Dates in a Dataframe\n"
    },
    {
      "metadata": {
        "_uuid": "f5bcbc00ce23e50d346495588428e5d6f430a8df",
        "trusted": true,
        "_kg_hide-input": true
      },
      "cell_type": "code",
      "source": "dates = pd.date_range('10-01-2016', periods=9, freq='2W-SUN')\ndates",
      "execution_count": null,
      "outputs": []
    },
    {
      "metadata": {
        "_uuid": "41df9aeeb10a2d404f1eada62b4a4066e0f37af0",
        "trusted": true,
        "_kg_hide-input": true
      },
      "cell_type": "code",
      "source": "df.index.ravel",
      "execution_count": null,
      "outputs": []
    },
    {
      "metadata": {
        "_uuid": "2f7c5d5041dc630abeaff47ff5a96a0dd53db8e5"
      },
      "cell_type": "markdown",
      "source": "<a id=\"57\"></a> <br>\n## 4-9 Distributions in Pandas\n###### [Go to top](#top)"
    },
    {
      "metadata": {
        "_uuid": "96be284ba6d63fd0b1db5641a21d75aacdfb7da4",
        "trusted": true,
        "_kg_hide-input": true
      },
      "cell_type": "code",
      "source": "np.random.binomial(1, 0.5)",
      "execution_count": null,
      "outputs": []
    },
    {
      "metadata": {
        "_uuid": "4ae2c7ff2cf941bae62be23864a1685a196551d0",
        "trusted": true,
        "_kg_hide-input": true
      },
      "cell_type": "code",
      "source": "np.random.binomial(1000, 0.5)/1000",
      "execution_count": null,
      "outputs": []
    },
    {
      "metadata": {
        "_uuid": "c5e89f6f0c7376c164f80dc4c5d582b0a639e254",
        "trusted": true,
        "_kg_hide-input": true
      },
      "cell_type": "code",
      "source": "chance_of_tornado = 0.01/100\nnp.random.binomial(100000, chance_of_tornado)",
      "execution_count": null,
      "outputs": []
    },
    {
      "metadata": {
        "_uuid": "7804824638e0e6e97ebe5a252806d51a4e5cac2c",
        "trusted": true,
        "_kg_hide-input": true
      },
      "cell_type": "code",
      "source": "chance_of_tornado = 0.01\n\ntornado_events = np.random.binomial(1, chance_of_tornado, 1000000)\n    \ntwo_days_in_a_row = 0\nfor j in range(1,len(tornado_events)-1):\n    if tornado_events[j]==1 and tornado_events[j-1]==1:\n        two_days_in_a_row+=1\n\nprint('{} tornadoes back to back in {} years'.format(two_days_in_a_row, 1000000/365))",
      "execution_count": null,
      "outputs": []
    },
    {
      "metadata": {
        "_uuid": "4583c0a0ec05e914af1c01e2c901da41828ad653",
        "trusted": true,
        "_kg_hide-input": true
      },
      "cell_type": "code",
      "source": "np.random.uniform(0, 1)",
      "execution_count": null,
      "outputs": []
    },
    {
      "metadata": {
        "_uuid": "365cfd6e6602f46bc98c13d10a47ad1d98af978e",
        "trusted": true,
        "_kg_hide-input": true
      },
      "cell_type": "code",
      "source": "np.random.normal(0.75)",
      "execution_count": null,
      "outputs": []
    },
    {
      "metadata": {
        "_uuid": "8091adda4fbdccffb73424476c68a7aa0fb53c9a",
        "trusted": true,
        "_kg_hide-input": true
      },
      "cell_type": "code",
      "source": "distribution = np.random.normal(0.75,size=1000)\n\nnp.sqrt(np.sum((np.mean(distribution)-distribution)**2)/len(distribution))",
      "execution_count": null,
      "outputs": []
    },
    {
      "metadata": {
        "_uuid": "9eed1ac016763a69de465e82736d30d7e5b1d028",
        "trusted": true,
        "_kg_hide-input": true
      },
      "cell_type": "code",
      "source": "np.std(distribution)",
      "execution_count": null,
      "outputs": []
    },
    {
      "metadata": {
        "_uuid": "ab89e527fcd900577d879b50272d400ae0bdbaa0",
        "trusted": true,
        "_kg_hide-input": true
      },
      "cell_type": "code",
      "source": "\nstats.kurtosis(distribution)",
      "execution_count": null,
      "outputs": []
    },
    {
      "metadata": {
        "_uuid": "c974e2563460f9b4942ab8c9b1d1783479779fa5",
        "trusted": true,
        "_kg_hide-input": true
      },
      "cell_type": "code",
      "source": "stats.skew(distribution)",
      "execution_count": null,
      "outputs": []
    },
    {
      "metadata": {
        "_uuid": "de01fc7f82016eeb5f3b206788e7213ad373a441",
        "trusted": true,
        "_kg_hide-input": true
      },
      "cell_type": "code",
      "source": "chi_squared_df2 = np.random.chisquare(2, size=10000)\nstats.skew(chi_squared_df2)",
      "execution_count": null,
      "outputs": []
    },
    {
      "metadata": {
        "_uuid": "d8cce6278eaf4b4865efebf34dfb4ec2d9b684ca",
        "trusted": true,
        "_kg_hide-input": true
      },
      "cell_type": "code",
      "source": "chi_squared_df5 = np.random.chisquare(5, size=10000)\nstats.skew(chi_squared_df5)",
      "execution_count": null,
      "outputs": []
    },
    {
      "metadata": {
        "_uuid": "1c30298fc2dcd63dface93cb1626c5e7367d4698",
        "trusted": true,
        "_kg_hide-input": true
      },
      "cell_type": "code",
      "source": "output = plt.hist([chi_squared_df2,chi_squared_df5], bins=50, histtype='step', \n                  label=['2 degrees of freedom','5 degrees of freedom'])\nplt.legend(loc='upper right')\n",
      "execution_count": null,
      "outputs": []
    },
    {
      "metadata": {
        "_uuid": "1cddfa2ed52693fae8532576cc1064c05777354c"
      },
      "cell_type": "markdown",
      "source": "<a id=\"58\"></a> <br>\n## 9-1 Courses\nThere are a lot of online courses that can help you develop your knowledge, here I have just  listed some of them:\n\n1. [Machine Learning Certification by Stanford University (Coursera)](https://www.coursera.org/learn/machine-learning/)\n\n2. [Machine Learning A-Z™: Hands-On Python & R In Data Science (Udemy)](https://www.udemy.com/machinelearning/)\n\n3. [Deep Learning Certification by Andrew Ng from deeplearning.ai (Coursera)](https://www.coursera.org/specializations/deep-learning)\n\n4. [Python for Data Science and Machine Learning Bootcamp (Udemy)](Python for Data Science and Machine Learning Bootcamp (Udemy))\n\n5. [Mathematics for Machine Learning by Imperial College London](https://www.coursera.org/specializations/mathematics-machine-learning)\n\n6. [Deep Learning A-Z™: Hands-On Artificial Neural Networks](https://www.udemy.com/deeplearning/)\n\n7. [Complete Guide to TensorFlow for Deep Learning Tutorial with Python](https://www.udemy.com/complete-guide-to-tensorflow-for-deep-learning-with-python/)\n\n8. [Data Science and Machine Learning Tutorial with Python – Hands On](https://www.udemy.com/data-science-and-machine-learning-with-python-hands-on/)\n\n9. [Machine Learning Certification by University of Washington](https://www.coursera.org/specializations/machine-learning)\n\n10. [Data Science and Machine Learning Bootcamp with R](https://www.udemy.com/data-science-and-machine-learning-bootcamp-with-r/)\n11. [Creative Applications of Deep Learning with TensorFlow](https://www.class-central.com/course/kadenze-creative-applications-of-deep-learning-with-tensorflow-6679)\n12. [Neural Networks for Machine Learning](https://www.class-central.com/mooc/398/coursera-neural-networks-for-machine-learning)\n13. [Practical Deep Learning For Coders, Part 1](https://www.class-central.com/mooc/7887/practical-deep-learning-for-coders-part-1)\n14. [Machine Learning](https://www.cs.ox.ac.uk/teaching/courses/2014-2015/ml/index.html)\n <a id=\"59\"></a> <br>\n## 9-2 Ebooks\nIf you love reading , here is **10 free machine learning books**\n1. [Probability and Statistics for Programmers](http://www.greenteapress.com/thinkstats/)\n2. [Bayesian Reasoning and Machine Learning](http://web4.cs.ucl.ac.uk/staff/D.Barber/textbook/091117.pdf)\n2. [An Introduction to Statistical Learning](http://www-bcf.usc.edu/~gareth/ISL/)\n2. [Understanding Machine Learning](http://www.cs.huji.ac.il/~shais/UnderstandingMachineLearning/index.html)\n2. [A Programmer’s Guide to Data Mining](http://guidetodatamining.com/)\n2. [Mining of Massive Datasets](http://infolab.stanford.edu/~ullman/mmds/book.pdf)\n2. [A Brief Introduction to Neural Networks](http://www.dkriesel.com/_media/science/neuronalenetze-en-zeta2-2col-dkrieselcom.pdf)\n2. [Deep Learning](http://www.deeplearningbook.org/)\n2. [Natural Language Processing with Python](https://www.researchgate.net/publication/220691633_Natural_Language_Processing_with_Python)\n2. [Machine Learning Yearning](http://www.mlyearning.org/)\n <a id=\"60\"></a> <br>\n## 9-3 Cheat Sheets\nData Science is an ever-growing field, there are numerous tools & techniques to remember. It is not possible for anyone to remember all the functions, operations and formulas of each concept. That’s why we have cheat sheets. But there are a plethora of cheat sheets available out there, choosing the right cheat sheet is a tough task. So, I decided to collect them here\n\nHere I have selected the cheat sheets on the following criteria: comprehensiveness, clarity, and content [5]:\n1. [Quick Guide to learn Python for Data Science ](https://github.com/mjbahmani/10-steps-to-become-a-data-scientist/blob/master/cheatsheets/Data-Science-in-Python.pdf)\n1. [Python for Data Science Cheat sheet ](https://github.com/mjbahmani/10-steps-to-become-a-data-scientist/blob/master/cheatsheets/beginners_python_cheat_sheet.pdf)\n1. [Python For Data Science Cheat Sheet NumPy](https://github.com/mjbahmani/10-steps-to-become-a-data-scientist/blob/master/cheatsheets/Numpy_Python_Cheat_Sheet.pdf)\n1. [Exploratory Data Analysis in Python]()\n1. [Data Exploration using Pandas in Python](https://github.com/mjbahmani/10-steps-to-become-a-data-scientist/blob/master/cheatsheets/Data-Exploration-in-Python.pdf)\n1. [Data Visualisation in Python](https://github.com/mjbahmani/10-steps-to-become-a-data-scientist/blob/master/cheatsheets/data-visualisation-infographics1.jpg)\n1. [Python For Data Science Cheat Sheet Bokeh](https://github.com/mjbahmani/10-steps-to-become-a-data-scientist/blob/master/cheatsheets/Python_Bokeh_Cheat_Sheet.pdf)\n1. [Cheat Sheet: Scikit Learn ](https://github.com/mjbahmani/10-steps-to-become-a-data-scientist/blob/master/cheatsheets/Scikit-Learn-Infographic.pdf)\n1. [MLalgorithms CheatSheet](https://github.com/mjbahmani/10-steps-to-become-a-data-scientist/blob/master/cheatsheets/MLalgorithms-.pdf)\n1. [Probability Basics  Cheat Sheet ](https://github.com/mjbahmani/10-steps-to-become-a-data-scientist/blob/master/cheatsheets/probability_cheatsheet.pdf)"
    },
    {
      "metadata": {
        "_uuid": "a4a58d0f0aa8204797f2b0836d6204404280d6f3"
      },
      "cell_type": "markdown",
      "source": "\n<a id=\"61\"></a> <br>\n## 10 -Conclusion\nYou have got an introduction to the main packages and ideas in the **The Data Scientist’s Toolbox Tutorial - 1**. I hope,  you have had fun with it also, I want to hear your voice to update this kernel. in addition, there is the new and second version of the kernel that introduces the next packages. to continue please click on [**The Data Scientist’s Toolbox Tutorial - 2**](https://www.kaggle.com/mjbahmani/the-data-scientist-s-toolbox-tutorial-2)"
    },
    {
      "metadata": {
        "_uuid": "dc985ec01fe0e62afd495b8ec461359f085071b6"
      },
      "cell_type": "markdown",
      "source": "\n\n---------------------------------------------------------------------\nFork, Run and Follow this kernel on GitHub:\n> ###### [ GitHub](https://github.com/mjbahmani/10-steps-to-become-a-data-scientist)\n\n\n-------------------------------------------------------------------------------------------------------------\n **I hope you find this kernel helpful and some <font color=\"red\">UPVOTES</font> would be very much appreciated.**\n \n -----------\n"
    },
    {
      "metadata": {
        "_uuid": "3eb9f355dc3885ea4b0f38968a4bf14d20de02fd"
      },
      "cell_type": "markdown",
      "source": "<a id=\"62\"></a> <br>\n## 11- References\n1. [Coursera](https://www.coursera.org/specializations/data-science-python)\n1. [GitHub](https://github.com/mjbahmani)\n1. [plot.ly](https://plot.ly/python/offline/)\n1. [tutorialspoint](https://www.tutorialspoint.com/python/python_classes_objects.htm)\n1. [Top 28 Cheat Sheets for Machine Learning](https://www.analyticsvidhya.com/blog/2017/02/top-28-cheat-sheets-for-machine-learning-data-science-probability-sql-big-data/)\n###### [Go to top](#top)"
    }
  ],
  "metadata": {
    "kernelspec": {
      "display_name": "Python 3",
      "language": "python",
      "name": "python3"
    },
    "language_info": {
      "name": "python",
      "version": "3.6.6",
      "mimetype": "text/x-python",
      "codemirror_mode": {
        "name": "ipython",
        "version": 3
      },
      "pygments_lexer": "ipython3",
      "nbconvert_exporter": "python",
      "file_extension": ".py"
    }
  },
  "nbformat": 4,
  "nbformat_minor": 1
}